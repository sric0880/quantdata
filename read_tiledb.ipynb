{
 "cells": [
  {
   "cell_type": "code",
   "execution_count": 13,
   "metadata": {},
   "outputs": [],
   "source": [
    "import tiledb\n",
    "config = tiledb.Config()\n",
    "\n",
    "# Set configuration parameters\n",
    "config[\"vfs.s3.scheme\"] = \"http\"\n",
    "config[\"vfs.s3.region\"] = \"\" # timezone\n",
    "config[\"vfs.s3.endpoint_override\"] = \"localhost:9000\"\n",
    "config[\"vfs.s3.use_virtual_addressing\"] = \"false\"\n",
    "config[\"vfs.s3.aws_access_key_id\"] = \"5AZvbYF8JH59jeZbOiFF\"\n",
    "config[\"vfs.s3.aws_secret_access_key\"] = \"mOImsL4LuPuNg7yz43JXnTOi5uieK5NBEKeRj3QK\"\n",
    "# turn off Coordinate Out-of-bounds Check\n",
    "config[\"sm.check_coord_oob\"] = False\n",
    "config[\"sm.tile_cache_size\"] = 100000000\n",
    "\n",
    "\n",
    "# Create contex object\n",
    "ctx = tiledb.Ctx(config)\n",
    "\n",
    "minio_bucket = \"s3://finance-tiledb\"\n",
    "cn_stock_group_name = f\"{minio_bucket}/cn_stock\""
   ]
  },
  {
   "cell_type": "markdown",
   "metadata": {},
   "source": [
    "## 读取A股交易日历"
   ]
  },
  {
   "cell_type": "code",
   "execution_count": 18,
   "metadata": {},
   "outputs": [
    {
     "name": "stdout",
     "output_type": "stream",
     "text": [
      "59.1 ms ± 7.84 ms per loop (mean ± std. dev. of 7 runs, 10 loops each)\n"
     ]
    }
   ],
   "source": [
    "%%timeit\n",
    "\n",
    "array_trade_cal = f\"{cn_stock_group_name}/trade_cal\"\n",
    "with tiledb.open(array_trade_cal, mode='r', ctx=ctx) as A:\n",
    "    A[:]"
   ]
  },
  {
   "cell_type": "markdown",
   "metadata": {},
   "source": [
    "## 读取A股证券基本信息"
   ]
  },
  {
   "cell_type": "code",
   "execution_count": 17,
   "metadata": {},
   "outputs": [
    {
     "name": "stdout",
     "output_type": "stream",
     "text": [
      "115 ms ± 13.9 ms per loop (mean ± std. dev. of 7 runs, 10 loops each)\n"
     ]
    }
   ],
   "source": [
    "%%timeit\n",
    "\n",
    "array_basic_info_stocks = f\"{cn_stock_group_name}/basic_info_stocks\"\n",
    "with tiledb.open(array_basic_info_stocks, mode='r', ctx=ctx) as A:\n",
    "    A.query(attrs=['symbol','name','status'])[:]"
   ]
  }
 ],
 "metadata": {
  "kernelspec": {
   "display_name": "base",
   "language": "python",
   "name": "python3"
  },
  "language_info": {
   "codemirror_mode": {
    "name": "ipython",
    "version": 3
   },
   "file_extension": ".py",
   "mimetype": "text/x-python",
   "name": "python",
   "nbconvert_exporter": "python",
   "pygments_lexer": "ipython3",
   "version": "3.9.18"
  }
 },
 "nbformat": 4,
 "nbformat_minor": 2
}
