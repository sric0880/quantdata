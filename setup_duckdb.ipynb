{
 "cells": [
  {
   "cell_type": "markdown",
   "metadata": {},
   "source": [
    "\n",
    "## cn_stock/bars/daily"
   ]
  },
  {
   "cell_type": "markdown",
   "metadata": {},
   "source": [
    "### Overwrite"
   ]
  },
  {
   "cell_type": "code",
   "execution_count": 3,
   "metadata": {},
   "outputs": [
    {
     "name": "stdout",
     "output_type": "stream",
     "text": [
      "┌─────────────────────┬──────────┬───────┬───────┬───────┬───┬───────────────┬─────────┬─────────┬─────────┬─────────┐\n",
      "│         dt          │   name   │ _open │ _high │ _low  │ … │ lb_down_count │  close  │  open   │  high   │   low   │\n",
      "│     timestamp_s     │ varchar  │ float │ float │ float │   │     uint8     │  float  │  float  │  float  │  float  │\n",
      "├─────────────────────┼──────────┼───────┼───────┼───────┼───┼───────────────┼─────────┼─────────┼─────────┼─────────┤\n",
      "│ 1991-01-03 00:00:00 │ 深发展Ａ │  66.4 │  66.4 │  66.4 │ … │             0 │ 7.07077 │ 7.07077 │ 7.07077 │ 7.07077 │\n",
      "│ 1991-01-04 00:00:00 │ 深发展Ａ │ 66.07 │ 66.07 │ 66.07 │ … │             0 │ 7.03562 │ 7.03562 │ 7.03562 │ 7.03562 │\n",
      "│ 1991-01-07 00:00:00 │ 深发展Ａ │ 66.42 │ 66.42 │ 66.42 │ … │             0 │  7.0729 │  7.0729 │  7.0729 │  7.0729 │\n",
      "│ 1991-01-09 00:00:00 │ 深发展Ａ │ 65.76 │ 65.76 │ 65.76 │ … │             0 │ 7.00261 │ 7.00261 │ 7.00261 │ 7.00261 │\n",
      "│ 1991-01-10 00:00:00 │ 深发展Ａ │ 65.43 │ 65.43 │ 65.43 │ … │             0 │ 6.96747 │ 6.96747 │ 6.96747 │ 6.96747 │\n",
      "│ 1991-01-11 00:00:00 │ 深发展Ａ │  65.1 │  65.1 │  65.1 │ … │             0 │ 6.93233 │ 6.93233 │ 6.93233 │ 6.93233 │\n",
      "│ 1991-01-14 00:00:00 │ 深发展Ａ │ 64.45 │ 64.45 │ 64.45 │ … │             0 │ 6.86311 │ 6.86311 │ 6.86311 │ 6.86311 │\n",
      "│ 1991-01-15 00:00:00 │ 深发展Ａ │ 64.13 │ 64.13 │ 64.13 │ … │             0 │ 6.82904 │ 6.82904 │ 6.82904 │ 6.82904 │\n",
      "│ 1991-01-16 00:00:00 │ 深发展Ａ │ 63.81 │ 63.81 │ 63.81 │ … │             0 │ 6.79496 │ 6.79496 │ 6.79496 │ 6.79496 │\n",
      "│ 1991-01-17 00:00:00 │ 深发展Ａ │ 63.49 │ 63.49 │ 63.49 │ … │             0 │ 6.76089 │ 6.76089 │ 6.76089 │ 6.76089 │\n",
      "│          ·          │    ·     │   ·   │    ·  │   ·   │ · │             · │     ·   │     ·   │      ·  │     ·   │\n",
      "│          ·          │    ·     │   ·   │    ·  │   ·   │ · │             · │     ·   │     ·   │      ·  │     ·   │\n",
      "│          ·          │    ·     │   ·   │    ·  │   ·   │ · │             · │     ·   │     ·   │      ·  │     ·   │\n",
      "│ 2024-08-19 00:00:00 │ 平安银行 │ 10.13 │  10.3 │ 10.12 │ … │             0 │   10.29 │   10.13 │    10.3 │   10.12 │\n",
      "│ 2024-08-20 00:00:00 │ 平安银行 │ 10.32 │ 10.43 │ 10.28 │ … │             0 │   10.34 │   10.32 │   10.43 │   10.28 │\n",
      "│ 2024-08-21 00:00:00 │ 平安银行 │  10.3 │ 10.38 │ 10.21 │ … │             0 │   10.35 │    10.3 │   10.38 │   10.21 │\n",
      "│ 2024-08-22 00:00:00 │ 平安银行 │ 10.34 │ 10.45 │ 10.32 │ … │             0 │   10.38 │   10.34 │   10.45 │   10.32 │\n",
      "│ 2024-08-23 00:00:00 │ 平安银行 │ 10.39 │  10.5 │ 10.32 │ … │             0 │   10.47 │   10.39 │    10.5 │   10.32 │\n",
      "│ 2024-08-26 00:00:00 │ 平安银行 │  10.5 │ 10.55 │ 10.42 │ … │             0 │   10.49 │    10.5 │   10.55 │   10.42 │\n",
      "│ 2024-08-27 00:00:00 │ 平安银行 │ 10.47 │ 10.52 │ 10.37 │ … │             0 │   10.43 │   10.47 │   10.52 │   10.37 │\n",
      "│ 2024-08-28 00:00:00 │ 平安银行 │ 10.41 │ 10.43 │ 10.28 │ … │             0 │   10.33 │   10.41 │   10.43 │   10.28 │\n",
      "│ 2024-08-29 00:00:00 │ 平安银行 │ 10.31 │ 10.38 │ 10.11 │ … │             0 │   10.13 │   10.31 │   10.38 │   10.11 │\n",
      "│ 2024-08-30 00:00:00 │ 平安银行 │ 10.11 │ 10.26 │ 10.11 │ … │             0 │   10.16 │   10.11 │   10.26 │   10.11 │\n",
      "├─────────────────────┴──────────┴───────┴───────┴───────┴───┴───────────────┴─────────┴─────────┴─────────┴─────────┤\n",
      "│ 7990 rows (20 shown)                                                                         48 columns (10 shown) │\n",
      "└────────────────────────────────────────────────────────────────────────────────────────────────────────────────────┘\n",
      "\n"
     ]
    }
   ],
   "source": [
    "import duckdb\n",
    "\n",
    "with duckdb.connect(\"datas/duckdb/test_finance.db\") as conn:\n",
    "    with open(\"finance.duckdb.sql\") as f:\n",
    "        # conn.execute(\"drop table bars_daily_000001_SZ;\")\n",
    "        sql = f.read().format(tablename='000001_SZ', csv_path='datasources/000001.SZ')\n",
    "        conn.execute(sql)\n",
    "    conn.table('bars_daily_000001_SZ').show()"
   ]
  },
  {
   "cell_type": "code",
   "execution_count": 2,
   "metadata": {},
   "outputs": [
    {
     "data": {
      "application/vnd.jupyter.widget-view+json": {
       "model_id": "4659df8e5afd412db15f576a7b1f2e39",
       "version_major": 2,
       "version_minor": 0
      },
      "text/plain": [
       "FloatProgress(value=0.0, layout=Layout(width='auto'), style=ProgressStyle(bar_color='black'))"
      ]
     },
     "metadata": {},
     "output_type": "display_data"
    },
    {
     "name": "stdout",
     "output_type": "stream",
     "text": [
      "┌──────────────────────┬────────────┬────────┬──────────┬───┬────────────┬────────────┬─────────────┬─────────────┐\n",
      "│          dt          │ last_price │ volume │  amount  │ … │ bid_price1 │ ask_price1 │ bid_volume1 │ ask_volume1 │\n",
      "│      timestamp       │   float    │ uint32 │  uint32  │   │   float    │   float    │   uint32    │   uint32    │\n",
      "├──────────────────────┼────────────┼────────┼──────────┼───┼────────────┼────────────┼─────────────┼─────────────┤\n",
      "│ 2017-01-04 09:00:0…  │     1521.0 │    985 │ 14988160 │ … │     1520.0 │     1521.0 │         143 │          15 │\n",
      "│ 2017-01-04 09:00:0…  │     1521.0 │    384 │  5841550 │ … │     1520.0 │     1521.0 │         103 │          90 │\n",
      "│ 2017-01-04 09:00:0…  │     1521.0 │     58 │   882110 │ … │     1520.0 │     1521.0 │         201 │          76 │\n",
      "│ 2017-01-04 09:00:0…  │     1521.0 │     49 │   745150 │ … │     1520.0 │     1521.0 │         289 │          68 │\n",
      "│ 2017-01-04 09:00:0…  │     1520.0 │    458 │  6963530 │ … │     1520.0 │     1521.0 │           8 │         117 │\n",
      "│ 2017-01-04 09:00:0…  │     1519.0 │    150 │  2279680 │ … │     1519.0 │     1520.0 │         220 │           3 │\n",
      "│ 2017-01-04 09:00:0…  │     1521.0 │     89 │  1352890 │ … │     1519.0 │     1521.0 │         202 │         131 │\n",
      "│ 2017-01-04 09:00:0…  │     1521.0 │     36 │   547270 │ … │     1519.0 │     1521.0 │         188 │         163 │\n",
      "│ 2017-01-04 09:00:0…  │     1519.0 │    101 │  1534420 │ … │     1519.0 │     1521.0 │         108 │         172 │\n",
      "│ 2017-01-04 09:00:0…  │     1520.0 │    343 │  5210610 │ … │     1518.0 │     1520.0 │         136 │          89 │\n",
      "│          ·           │        ·   │      · │      ·   │ · │        ·   │        ·   │          ·  │           · │\n",
      "│          ·           │        ·   │      · │      ·   │ · │        ·   │        ·   │          ·  │           · │\n",
      "│          ·           │        ·   │      · │      ·   │ · │        ·   │        ·   │          ·  │           · │\n",
      "│ 2017-01-04 10:41:4…  │     1535.0 │      1 │    15350 │ … │     1535.0 │     1536.0 │         768 │         658 │\n",
      "│ 2017-01-04 10:41:4…  │     1536.0 │      2 │    30720 │ … │     1535.0 │     1536.0 │         769 │         657 │\n",
      "│ 2017-01-04 10:41:4…  │     1535.0 │      3 │    46050 │ … │     1535.0 │     1536.0 │         770 │         658 │\n",
      "│ 2017-01-04 10:41:4…  │     1535.0 │      0 │        0 │ … │     1535.0 │     1536.0 │         771 │         658 │\n",
      "│ 2017-01-04 10:41:4…  │     1536.0 │      2 │    30720 │ … │     1535.0 │     1536.0 │         781 │         656 │\n",
      "│ 2017-01-04 10:41:4…  │     1536.0 │      0 │        0 │ … │     1535.0 │     1536.0 │         782 │         675 │\n",
      "│ 2017-01-04 10:41:4…  │     1535.0 │    800 │ 12280000 │ … │     1534.0 │     1535.0 │        1298 │          48 │\n",
      "│ 2017-01-04 10:41:4…  │     1535.0 │      0 │        0 │ … │     1534.0 │     1535.0 │        1271 │         159 │\n",
      "│ 2017-01-04 10:41:4…  │     1535.0 │     44 │   675400 │ … │     1534.0 │     1535.0 │        1271 │         120 │\n",
      "│ 2017-01-04 10:41:5…  │     1535.0 │    120 │  1842000 │ … │     1535.0 │     1536.0 │          91 │         814 │\n",
      "├──────────────────────┴────────────┴────────┴──────────┴───┴────────────┴────────────┴─────────────┴─────────────┤\n",
      "│ ? rows (>9999 rows, 20 shown)                                                               9 columns (8 shown) │\n",
      "└─────────────────────────────────────────────────────────────────────────────────────────────────────────────────┘\n",
      "\n"
     ]
    }
   ],
   "source": [
    "import duckdb\n",
    "\n",
    "with duckdb.connect(\"datas/duckdb/finance_ticks_ctpfuture.db\") as conn:\n",
    "    with open(\"finance.duckdb.ticks.sql\") as f:\n",
    "        # conn.execute(\"drop table ticks_c;\")\n",
    "        sql = f.read().format(tablename='c', csv_path='datasources/c') # c 有3个G没有上传git了\n",
    "        conn.execute(sql)\n",
    "    conn.table('ticks_c').show()"
   ]
  },
  {
   "cell_type": "markdown",
   "metadata": {},
   "source": [
    "### Write"
   ]
  },
  {
   "cell_type": "code",
   "execution_count": 4,
   "metadata": {},
   "outputs": [],
   "source": [
    "import duckdb\n",
    "\n",
    "with duckdb.connect(\"datas/duckdb/test_finance.db\") as conn:\n",
    "    insert_sql = f\"INSERT INTO bars_daily_000001_SZ SELECT dt,name,_open,_high,_low,_close,volume,amount,preclose,net_profit_ttm,cashflow_ttm,equity,asset,debt,debttoasset,net_profit_q,pe_ttm,pb,mkt_cap,mkt_cap_ashare,vip_buy_amt,vip_sell_amt,inst_buy_amt,inst_sell_amt,mid_buy_amt,mid_sell_amt,indi_buy_amt,indi_sell_amt,master_net_flow_in,master2_net_flow_in,vip_net_flow_in,mid_net_flow_in,inst_net_flow_in,indi_net_flow_in,total_sell_amt,total_buy_amt,net_flow_in,turnover,free_shares,total_shares,maxupordown,maxupordown_at_open,lb_up_count,lb_down_count,close,open,high,low FROM 'datasources/data_append.csv' where symbol='000001.SZ';\"\n",
    "    conn.execute(insert_sql)"
   ]
  },
  {
   "cell_type": "markdown",
   "metadata": {},
   "source": [
    "### Delete"
   ]
  },
  {
   "cell_type": "code",
   "execution_count": 5,
   "metadata": {},
   "outputs": [],
   "source": [
    "import duckdb\n",
    "\n",
    "with duckdb.connect(\"datas/duckdb/test_finance.db\") as conn:\n",
    "    # 删除不存在的行不会报错\n",
    "    insert_sql = f\"DELETE FROM bars_daily_000001_SZ WHERE dt = '2024-09-02 00:00:00';\"\n",
    "    conn.execute(insert_sql)"
   ]
  },
  {
   "cell_type": "markdown",
   "metadata": {},
   "source": [
    "### Read"
   ]
  },
  {
   "cell_type": "code",
   "execution_count": 4,
   "metadata": {},
   "outputs": [
    {
     "data": {
      "text/html": [
       "<div>\n",
       "<style scoped>\n",
       "    .dataframe tbody tr th:only-of-type {\n",
       "        vertical-align: middle;\n",
       "    }\n",
       "\n",
       "    .dataframe tbody tr th {\n",
       "        vertical-align: top;\n",
       "    }\n",
       "\n",
       "    .dataframe thead th {\n",
       "        text-align: right;\n",
       "    }\n",
       "</style>\n",
       "<table border=\"1\" class=\"dataframe\">\n",
       "  <thead>\n",
       "    <tr style=\"text-align: right;\">\n",
       "      <th></th>\n",
       "      <th>dt</th>\n",
       "      <th>name</th>\n",
       "      <th>open</th>\n",
       "    </tr>\n",
       "  </thead>\n",
       "  <tbody>\n",
       "    <tr>\n",
       "      <th>0</th>\n",
       "      <td>2024-08-26</td>\n",
       "      <td>平安银行</td>\n",
       "      <td>10.50</td>\n",
       "    </tr>\n",
       "    <tr>\n",
       "      <th>1</th>\n",
       "      <td>2024-08-27</td>\n",
       "      <td>平安银行</td>\n",
       "      <td>10.47</td>\n",
       "    </tr>\n",
       "    <tr>\n",
       "      <th>2</th>\n",
       "      <td>2024-08-28</td>\n",
       "      <td>平安银行</td>\n",
       "      <td>10.41</td>\n",
       "    </tr>\n",
       "    <tr>\n",
       "      <th>3</th>\n",
       "      <td>2024-08-29</td>\n",
       "      <td>平安银行</td>\n",
       "      <td>10.31</td>\n",
       "    </tr>\n",
       "    <tr>\n",
       "      <th>4</th>\n",
       "      <td>2024-08-30</td>\n",
       "      <td>平安银行</td>\n",
       "      <td>10.11</td>\n",
       "    </tr>\n",
       "  </tbody>\n",
       "</table>\n",
       "</div>"
      ],
      "text/plain": [
       "          dt  name   open\n",
       "0 2024-08-26  平安银行  10.50\n",
       "1 2024-08-27  平安银行  10.47\n",
       "2 2024-08-28  平安银行  10.41\n",
       "3 2024-08-29  平安银行  10.31\n",
       "4 2024-08-30  平安银行  10.11"
      ]
     },
     "execution_count": 4,
     "metadata": {},
     "output_type": "execute_result"
    }
   ],
   "source": [
    "import quantdata as qd\n",
    "\n",
    "with qd.duckdb_connect() as conn:\n",
    "    qd.duckdb_attach(conn, 'datas/duckdb/test_finance.db')\n",
    "    # df = qd.duckdb_get_array(conn, \"test_finance\", 'bars_daily_000001_SZ').df()\n",
    "    # df = qd.duckdb_get_array(conn, \"test_finance\", 'bars_daily_000001_SZ', attrs=['dt', 'name', 'open']).df()\n",
    "    # df = qd.duckdb_get_array(conn, \"test_finance\", 'bars_daily_000001_SZ', attrs=['dt', 'name', 'open'], filter=\"dt>'2024-08-29 00:00:00' and open > 10.08\").df()\n",
    "    # 最后一行(所有列)\n",
    "    # df = qd.duckdb_get_array_last_rows(conn, \"test_finance\", 'bars_daily_000001_sz').df()\n",
    "    # 最后一行(自定义列)\n",
    "    # df = qd.duckdb_get_array_last_rows(conn, \"test_finance\", 'bars_daily_000001_SZ', attrs=['dt', 'name', 'open']).df()\n",
    "    # 最后5行\n",
    "    df = qd.duckdb_get_array_last_rows(conn, \"test_finance\", 'bars_daily_000001_SZ', attrs=['dt', 'name', 'open'], N=5).df()\n",
    "    # df = qd.duckdb_get_array_last_rows(conn, \"test_finance\", 'bars_daily_000001_SZ', N=1).df()\n",
    "df"
   ]
  },
  {
   "cell_type": "code",
   "execution_count": 2,
   "metadata": {},
   "outputs": [
    {
     "data": {
      "text/plain": [
       "rec.array([('1991-01-03T00:00:00', '',  7.07077),\n",
       "           ('1991-01-04T00:00:00', '',  7.03562),\n",
       "           ('1991-01-07T00:00:00', '',  7.0729 ), ...,\n",
       "           ('2024-08-28T00:00:00', '', 10.41   ),\n",
       "           ('2024-08-29T00:00:00', '', 10.31   ),\n",
       "           ('2024-08-30T00:00:00', '', 10.11   )],\n",
       "          dtype=[('dt', '<M8[s]'), ('name', '<U'), ('open', '<f4')])"
      ]
     },
     "execution_count": 2,
     "metadata": {},
     "output_type": "execute_result"
    }
   ],
   "source": [
    "import quantdata as qd\n",
    "\n",
    "with qd.duckdb_connect() as conn:\n",
    "    qd.duckdb_attach(conn, 'datas/duckdb/test_finance.db')\n",
    "    q = qd.duckdb_get_array(conn, \"test_finance\", 'bars_daily_000001_SZ', attrs=['dt', 'name', 'open'])\n",
    "    recarray = qd.duckdb_fetchrecarray(q)\n",
    "recarray"
   ]
  },
  {
   "cell_type": "markdown",
   "metadata": {},
   "source": [
    "### Benchmark\n",
    "\n",
    "以下为在大数据(全部5000+只股票的数据，一共5G)测试性能"
   ]
  },
  {
   "cell_type": "code",
   "execution_count": 6,
   "metadata": {},
   "outputs": [
    {
     "name": "stdout",
     "output_type": "stream",
     "text": [
      "5.12 ms ± 597 µs per loop (mean ± std. dev. of 7 runs, 100 loops each)\n",
      "1.13 ms ± 132 µs per loop (mean ± std. dev. of 7 runs, 1000 loops each)\n",
      "586 µs ± 14 µs per loop (mean ± std. dev. of 7 runs, 1000 loops each)\n",
      "3.68 ms ± 146 µs per loop (mean ± std. dev. of 7 runs, 100 loops each)\n",
      "909 µs ± 12.5 µs per loop (mean ± std. dev. of 7 runs, 1000 loops each)\n",
      "879 µs ± 30.2 µs per loop (mean ± std. dev. of 7 runs, 1000 loops each)\n",
      "4.06 ms ± 171 µs per loop (mean ± std. dev. of 7 runs, 100 loops each)\n"
     ]
    }
   ],
   "source": [
    "import quantdata as qd\n",
    "\n",
    "with qd.duckdb_connect() as conn:\n",
    "    qd.duckdb_attach(conn, 'datas/duckdb/finance.db')\n",
    "    %timeit qd.duckdb_get_array(conn, \"finance\", 'bars_daily_000001_SZ').fetchnumpy()\n",
    "    %timeit  qd.duckdb_get_array(conn, \"finance\", 'bars_daily_000002_SZ', attrs=['dt', 'name', 'open']).fetchnumpy()\n",
    "    %timeit  qd.duckdb_get_array(conn, \"finance\", 'bars_daily_000003_SZ', attrs=['dt', 'name', 'open'], filter=\"dt>'2024-08-29 00:00:00' and open > 10.08\").fetchnumpy()\n",
    "    # # 最后一行(所有列)\n",
    "    %timeit  qd.duckdb_get_array_last_rows(conn, \"finance\", 'bars_daily_000005_SZ').fetchnumpy()\n",
    "    # # 最后一行(自定义列)\n",
    "    %timeit  qd.duckdb_get_array_last_rows(conn, \"finance\", 'bars_daily_000008_SZ', attrs=['dt', 'name', 'open']).fetchnumpy()\n",
    "    # # 最后5行\n",
    "    %timeit qd.duckdb_get_array_last_rows(conn, \"finance\", 'bars_daily_000010_SZ', attrs=['dt', 'name', 'open'], N=5).fetchnumpy()\n",
    "    %timeit  qd.duckdb_get_array_last_rows(conn, \"finance\", 'bars_daily_000001_SZ', N=5).fetchnumpy()"
   ]
  },
  {
   "cell_type": "markdown",
   "metadata": {},
   "source": [
    "以下为 duckdb_attach 函数测试，分为\n",
    "- 本地文件\n",
    "- 局域网内共享文件\n",
    "- HTTP 文件"
   ]
  },
  {
   "cell_type": "code",
   "execution_count": 1,
   "metadata": {},
   "outputs": [],
   "source": [
    "import quantdata as qd\n",
    "\n",
    "def test_conn01():\n",
    "    conn = qd.duckdb_connect()\n",
    "    qd.duckdb_attach(conn, 'datas/duckdb/finance.db')\n",
    "    qd.duckdb_close(conn)\n",
    "\n",
    "test_conn01()"
   ]
  },
  {
   "cell_type": "code",
   "execution_count": 2,
   "metadata": {},
   "outputs": [],
   "source": [
    "import quantdata as qd\n",
    "\n",
    "def test_conn02():\n",
    "    conn = qd.duckdb_connect()\n",
    "    qd.duckdb_attach(conn, '//DESKTOP-6NI30V4/bt_data/duckdb/finance.db')\n",
    "    qd.duckdb_close(conn)\n",
    "\n",
    "test_conn02()"
   ]
  },
  {
   "cell_type": "code",
   "execution_count": null,
   "metadata": {},
   "outputs": [],
   "source": [
    "import quantdata as qd\n",
    "\n",
    "def test_conn03():\n",
    "    conn = qd.duckdb_connect(extensions=('httpfs',))\n",
    "    qd.duckdb_attach(conn, 'http://192.168.2.40:9001/finance.db')\n",
    "    qd.duckdb_close(conn)\n",
    "\n",
    "test_conn03()"
   ]
  },
  {
   "cell_type": "markdown",
   "metadata": {},
   "source": [
    "以下为 fetchxxx() 函数测试"
   ]
  },
  {
   "cell_type": "code",
   "execution_count": 5,
   "metadata": {},
   "outputs": [
    {
     "name": "stdout",
     "output_type": "stream",
     "text": [
      "6.33 ms ± 44.3 µs per loop (mean ± std. dev. of 7 runs, 100 loops each)\n"
     ]
    }
   ],
   "source": [
    "import quantdata as qd\n",
    "\n",
    "with qd.duckdb_connect() as conn:\n",
    "    qd.duckdb_attach(conn, 'datas/duckdb/finance.db')\n",
    "    %timeit qd.duckdb_get_array(conn, \"finance\", 'bars_daily_000001_SZ').fetchnumpy()"
   ]
  },
  {
   "cell_type": "code",
   "execution_count": 4,
   "metadata": {},
   "outputs": [
    {
     "name": "stdout",
     "output_type": "stream",
     "text": [
      "10.2 ms ± 654 µs per loop (mean ± std. dev. of 7 runs, 100 loops each)\n"
     ]
    }
   ],
   "source": [
    "import quantdata as qd\n",
    "\n",
    "with qd.duckdb_connect() as conn:\n",
    "    qd.duckdb_attach(conn, 'datas/duckdb/finance.db')\n",
    "    %timeit qd.duckdb_get_array(conn, \"finance\", 'bars_daily_000001_SZ').fetchdf()"
   ]
  },
  {
   "cell_type": "code",
   "execution_count": 7,
   "metadata": {},
   "outputs": [
    {
     "name": "stdout",
     "output_type": "stream",
     "text": [
      "71.1 ms ± 16.9 ms per loop (mean ± std. dev. of 7 runs, 10 loops each)\n"
     ]
    }
   ],
   "source": [
    "import quantdata as qd\n",
    "\n",
    "with qd.duckdb_connect() as conn:\n",
    "    qd.duckdb_attach(conn, 'datas/duckdb/finance.db')\n",
    "    %timeit qd.duckdb_get_array(conn, \"finance\", 'bars_daily_000001_SZ').fetchall()"
   ]
  },
  {
   "cell_type": "code",
   "execution_count": 16,
   "metadata": {},
   "outputs": [
    {
     "name": "stdout",
     "output_type": "stream",
     "text": [
      "108 ms ± 2.69 ms per loop (mean ± std. dev. of 7 runs, 10 loops each)\n"
     ]
    },
    {
     "data": {
      "text/plain": [
       "rec.array([('1991-01-03T00:00:00', '', 66.4 , 66.4 , 66.4 , 66.4 ,     21200,    1410000, 67.41, 0.0000e+00, 0.00000e+00, 0.00000e+00, 0.000000e+00, 0.000000e+00, 0.     , 0.0000e+00, 0.    , 0.    , 4.50855987e+09, 2.46343987e+09,     0.  ,     0.  ,     0.  ,     0.  ,     0.  ,     0.  ,     0.  ,     0.  ,     0.  ,     0.  ,     0.  ,     0.  ,     0.  ,     0.  ,      0.  ,      0.  ,  0.  , 0.00057,    37099996,    67900000, 0, 0, 0, 0,  7.07077,  7.07077,  7.07077,  7.07077),\n",
       "           ('1991-01-04T00:00:00', '', 66.07, 66.07, 66.07, 66.07,     16800,    1109000, 66.4 , 0.0000e+00, 0.00000e+00, 0.00000e+00, 0.000000e+00, 0.000000e+00, 0.     , 0.0000e+00, 0.    , 0.    , 4.48615322e+09, 2.45119693e+09,     0.  ,     0.  ,     0.  ,     0.  ,     0.  ,     0.  ,     0.  ,     0.  ,     0.  ,     0.  ,     0.  ,     0.  ,     0.  ,     0.  ,      0.  ,      0.  ,  0.  , 0.00045,    37100000,    67900000, 0, 0, 0, 0,  7.03562,  7.03562,  7.03562,  7.03562),\n",
       "           ('1991-01-07T00:00:00', '', 66.42, 66.42, 66.42, 66.42,     40200,    2672000, 66.07, 0.0000e+00, 0.00000e+00, 0.00000e+00, 0.000000e+00, 0.000000e+00, 0.     , 0.0000e+00, 0.    , 0.    , 4.50991821e+09, 2.46418202e+09,     0.  ,     0.  ,     0.  ,     0.  ,     0.  ,     0.  ,     0.  ,     0.  ,     0.  ,     0.  ,     0.  ,     0.  ,     0.  ,     0.  ,      0.  ,      0.  ,  0.  , 0.00108,    37100000,    67900008, 0, 0, 0, 0,  7.0729 ,  7.0729 ,  7.0729 ,  7.0729 ),\n",
       "           ...,\n",
       "           ('2024-08-28T00:00:00', '', 10.41, 10.43, 10.28, 10.33,  94254754,  973872155, 10.43, 4.6947e+10, 1.61942e+11, 4.81869e+11, 5.754033e+12, 5.272164e+12, 0.91626, 1.0947e+10, 4.27  , 0.4866, 2.00463135e+11, 2.00460029e+11, 26744.8 , 27689.58, 16346.73, 23836.59, 28940.23, 27134.58, 25355.45, 18726.46, -8434.64, -6628.99,  -944.78,  1805.65, -7489.86,  6628.99,  97387.21,  97387.21,  0.  , 0.00486, 19405617528, 19405918198, 0, 0, 0, 0, 10.33   , 10.41   , 10.43   , 10.28   ),\n",
       "           ('2024-08-29T00:00:00', '', 10.31, 10.38, 10.11, 10.13, 119767631, 1221351092, 10.33, 4.6947e+10, 1.61942e+11, 4.81869e+11, 5.754033e+12, 5.272164e+12, 0.91626, 1.0947e+10, 4.1873, 0.4772, 1.96581951e+11, 1.96578906e+11, 37343.46, 41064.27, 25269.48, 30383.69, 31380.71, 26724.64, 28141.46, 23962.51, -8835.02, -4178.95, -3720.81,  4656.07, -5114.21,  4178.95, 122135.11, 122135.11,  0.  , 0.00617, 19405617528, 19405918198, 0, 0, 0, 0, 10.13   , 10.31   , 10.38   , 10.11   ),\n",
       "           ('2024-08-30T00:00:00', '', 10.11, 10.26, 10.11, 10.16, 129405908, 1318858688, 10.13, 4.6947e+10, 1.61942e+11, 4.81869e+11, 5.754033e+12, 5.272164e+12, 0.91626, 1.0947e+10, 4.1997, 0.4786, 1.97164129e+11, 1.97161074e+11, 42949.28, 38967.61, 31619.19, 24519.4 , 32079.85, 36547.39, 25237.54, 31851.47, 11081.46,  6613.92,  3981.67, -4467.54,  7099.79, -6613.93, 131885.88, 131885.86, -0.01, 0.00667, 19405617528, 19405918198, 0, 0, 0, 0, 10.16   , 10.11   , 10.26   , 10.11   )],\n",
       "          dtype=[('dt', '<M8[s]'), ('name', '<U'), ('_open', '<f4'), ('_high', '<f4'), ('_low', '<f4'), ('_close', '<f4'), ('volume', '<u4'), ('amount', '<u8'), ('preclose', '<f4'), ('net_profit_ttm', '<f4'), ('cashflow_ttm', '<f4'), ('equity', '<f4'), ('asset', '<f4'), ('debt', '<f4'), ('debttoasset', '<f4'), ('net_profit_q', '<f4'), ('pe_ttm', '<f4'), ('pb', '<f4'), ('mkt_cap', '<f8'), ('mkt_cap_ashare', '<f8'), ('vip_buy_amt', '<f4'), ('vip_sell_amt', '<f4'), ('inst_buy_amt', '<f4'), ('inst_sell_amt', '<f4'), ('mid_buy_amt', '<f4'), ('mid_sell_amt', '<f4'), ('indi_buy_amt', '<f4'), ('indi_sell_amt', '<f4'), ('master_net_flow_in', '<f4'), ('master2_net_flow_in', '<f4'), ('vip_net_flow_in', '<f4'), ('mid_net_flow_in', '<f4'), ('inst_net_flow_in', '<f4'), ('indi_net_flow_in', '<f4'), ('total_sell_amt', '<f4'), ('total_buy_amt', '<f4'), ('net_flow_in', '<f4'), ('turnover', '<f4'), ('free_shares', '<u8'), ('total_shares', '<u8'), ('maxupordown', 'i1'), ('maxupordown_at_open', 'i1'), ('lb_up_count', 'u1'), ('lb_down_count', 'u1'), ('close', '<f4'), ('open', '<f4'), ('high', '<f4'), ('low', '<f4')])"
      ]
     },
     "execution_count": 16,
     "metadata": {},
     "output_type": "execute_result"
    }
   ],
   "source": [
    "import quantdata as qd\n",
    "import numpy as np\n",
    "\n",
    "duckdbpytype_to_nptype = {\n",
    "    \"BIGINT\": np.int64,\n",
    "    # \"BIT\": ,\n",
    "    # \"BLOB\": ,  # bytearray or bytes\n",
    "    \"BOOLEAN\": \"?\",\n",
    "    \"DATE\": \"datetime64[D]\",\n",
    "    \"DOUBLE\": np.float64,\n",
    "    \"FLOAT\": np.float32,\n",
    "    # \"HUGEINT\": np.int128,\n",
    "    # \"UHUGEINT\": np.uint128,\n",
    "    \"INTEGER\": np.int32,\n",
    "    # \"INTERVAL\":\n",
    "    \"SMALLINT\": np.int16,\n",
    "    # \"SQLNULL\": ,\n",
    "    # \"TIME\": ,\n",
    "    \"TIMESTAMP\": \"datetime64[us]\",  # microsecond\n",
    "    \"TIMESTAMP_MS\": \"datetime64[ms]\",  # millisecond\n",
    "    \"TIMESTAMP_NS\": \"datetime64[ns]\",\n",
    "    \"TIMESTAMP_S\": \"datetime64[s]\",\n",
    "    # \"TIMESTAMP_TZ\":\n",
    "    # \"TIME_TZ\":\n",
    "    \"TINYINT\": np.int8,\n",
    "    \"UBIGINT\": np.uint64,\n",
    "    \"UINTEGER\": np.uint32,\n",
    "    \"USMALLINT\": np.uint16,\n",
    "    \"UTINYINT\": np.uint8,\n",
    "    # \"UUID\":\n",
    "    \"VARCHAR\": \"U\",\n",
    "}\n",
    "\n",
    "\n",
    "def duckdb_fetchrecarray(q):\n",
    "    dtypes = [\n",
    "        (field, duckdbpytype_to_nptype[str(dtype)])\n",
    "        for field, dtype in zip(q.columns, q.dtypes)\n",
    "    ]\n",
    "    return np.array(q.fetchall(), dtype=dtypes).view(np.recarray)\n",
    "\n",
    "with qd.duckdb_connect() as conn:\n",
    "    qd.duckdb_attach(conn, 'datas/duckdb/finance.db')\n",
    "    rec = duckdb_fetchrecarray(qd.duckdb_get_array(conn, \"finance\", 'bars_daily_000001_SZ'))\n",
    "    %timeit duckdb_fetchrecarray(qd.duckdb_get_array(conn, \"finance\", 'bars_daily_000001_SZ'))\n",
    "rec"
   ]
  },
  {
   "cell_type": "code",
   "execution_count": 17,
   "metadata": {},
   "outputs": [
    {
     "name": "stdout",
     "output_type": "stream",
     "text": [
      "67.5 ms ± 6.2 ms per loop (mean ± std. dev. of 7 runs, 10 loops each)\n"
     ]
    },
    {
     "data": {
      "text/plain": [
       "rec.array([('1991-01-03T00:00:00', '深发展Ａ', 66.4 , 66.4 , 66.4 , 66.4 ,     21200,    1410000, 67.41, 0.0000e+00, 0.00000e+00, 0.00000e+00, 0.000000e+00, 0.000000e+00, 0.     , 0.0000e+00, 0.    , 0.    , 4.50855987e+09, 2.46343987e+09,     0.  ,     0.  ,     0.  ,     0.  ,     0.  ,     0.  ,     0.  ,     0.  ,     0.  ,     0.  ,     0.  ,     0.  ,     0.  ,     0.  ,      0.  ,      0.  ,  0.  , 0.00057,    37099996,    67900000, 0, 0, 0, 0,  7.07077,  7.07077,  7.07077,  7.07077),\n",
       "           ('1991-01-04T00:00:00', '深发展Ａ', 66.07, 66.07, 66.07, 66.07,     16800,    1109000, 66.4 , 0.0000e+00, 0.00000e+00, 0.00000e+00, 0.000000e+00, 0.000000e+00, 0.     , 0.0000e+00, 0.    , 0.    , 4.48615322e+09, 2.45119693e+09,     0.  ,     0.  ,     0.  ,     0.  ,     0.  ,     0.  ,     0.  ,     0.  ,     0.  ,     0.  ,     0.  ,     0.  ,     0.  ,     0.  ,      0.  ,      0.  ,  0.  , 0.00045,    37100000,    67900000, 0, 0, 0, 0,  7.03562,  7.03562,  7.03562,  7.03562),\n",
       "           ('1991-01-07T00:00:00', '深发展Ａ', 66.42, 66.42, 66.42, 66.42,     40200,    2672000, 66.07, 0.0000e+00, 0.00000e+00, 0.00000e+00, 0.000000e+00, 0.000000e+00, 0.     , 0.0000e+00, 0.    , 0.    , 4.50991821e+09, 2.46418202e+09,     0.  ,     0.  ,     0.  ,     0.  ,     0.  ,     0.  ,     0.  ,     0.  ,     0.  ,     0.  ,     0.  ,     0.  ,     0.  ,     0.  ,      0.  ,      0.  ,  0.  , 0.00108,    37100000,    67900008, 0, 0, 0, 0,  7.0729 ,  7.0729 ,  7.0729 ,  7.0729 ),\n",
       "           ...,\n",
       "           ('2024-08-28T00:00:00', '平安银行', 10.41, 10.43, 10.28, 10.33,  94254754,  973872155, 10.43, 4.6947e+10, 1.61942e+11, 4.81869e+11, 5.754033e+12, 5.272164e+12, 0.91626, 1.0947e+10, 4.27  , 0.4866, 2.00463135e+11, 2.00460029e+11, 26744.8 , 27689.58, 16346.73, 23836.59, 28940.23, 27134.58, 25355.45, 18726.46, -8434.64, -6628.99,  -944.78,  1805.65, -7489.86,  6628.99,  97387.21,  97387.21,  0.  , 0.00486, 19405617528, 19405918198, 0, 0, 0, 0, 10.33   , 10.41   , 10.43   , 10.28   ),\n",
       "           ('2024-08-29T00:00:00', '平安银行', 10.31, 10.38, 10.11, 10.13, 119767631, 1221351092, 10.33, 4.6947e+10, 1.61942e+11, 4.81869e+11, 5.754033e+12, 5.272164e+12, 0.91626, 1.0947e+10, 4.1873, 0.4772, 1.96581951e+11, 1.96578906e+11, 37343.46, 41064.27, 25269.48, 30383.69, 31380.71, 26724.64, 28141.46, 23962.51, -8835.02, -4178.95, -3720.81,  4656.07, -5114.21,  4178.95, 122135.11, 122135.11,  0.  , 0.00617, 19405617528, 19405918198, 0, 0, 0, 0, 10.13   , 10.31   , 10.38   , 10.11   ),\n",
       "           ('2024-08-30T00:00:00', '平安银行', 10.11, 10.26, 10.11, 10.16, 129405908, 1318858688, 10.13, 4.6947e+10, 1.61942e+11, 4.81869e+11, 5.754033e+12, 5.272164e+12, 0.91626, 1.0947e+10, 4.1997, 0.4786, 1.97164129e+11, 1.97161074e+11, 42949.28, 38967.61, 31619.19, 24519.4 , 32079.85, 36547.39, 25237.54, 31851.47, 11081.46,  6613.92,  3981.67, -4467.54,  7099.79, -6613.93, 131885.88, 131885.86, -0.01, 0.00667, 19405617528, 19405918198, 0, 0, 0, 0, 10.16   , 10.11   , 10.26   , 10.11   )],\n",
       "          dtype=[('dt', '<M8[s]'), ('name', 'O'), ('_open', '<f4'), ('_high', '<f4'), ('_low', '<f4'), ('_close', '<f4'), ('volume', '<u4'), ('amount', '<u8'), ('preclose', '<f4'), ('net_profit_ttm', '<f4'), ('cashflow_ttm', '<f4'), ('equity', '<f4'), ('asset', '<f4'), ('debt', '<f4'), ('debttoasset', '<f4'), ('net_profit_q', '<f4'), ('pe_ttm', '<f4'), ('pb', '<f4'), ('mkt_cap', '<f8'), ('mkt_cap_ashare', '<f8'), ('vip_buy_amt', '<f4'), ('vip_sell_amt', '<f4'), ('inst_buy_amt', '<f4'), ('inst_sell_amt', '<f4'), ('mid_buy_amt', '<f4'), ('mid_sell_amt', '<f4'), ('indi_buy_amt', '<f4'), ('indi_sell_amt', '<f4'), ('master_net_flow_in', '<f4'), ('master2_net_flow_in', '<f4'), ('vip_net_flow_in', '<f4'), ('mid_net_flow_in', '<f4'), ('inst_net_flow_in', '<f4'), ('indi_net_flow_in', '<f4'), ('total_sell_amt', '<f4'), ('total_buy_amt', '<f4'), ('net_flow_in', '<f4'), ('turnover', '<f4'), ('free_shares', '<u8'), ('total_shares', '<u8'), ('maxupordown', 'i1'), ('maxupordown_at_open', 'i1'), ('lb_up_count', 'u1'), ('lb_down_count', 'u1'), ('close', '<f4'), ('open', '<f4'), ('high', '<f4'), ('low', '<f4')])"
      ]
     },
     "execution_count": 17,
     "metadata": {},
     "output_type": "execute_result"
    }
   ],
   "source": [
    "import quantdata as qd\n",
    "import numpy as np\n",
    "\n",
    "\n",
    "def duckdb_fetchrecarray(q):\n",
    "    datas = q.fetchnumpy()\n",
    "    dtypes = [(col, arr.dtype) for col, arr in datas.items()]\n",
    "    return np.array(list(zip(*datas.values())), dtype=dtypes).view(np.recarray)\n",
    "\n",
    "with qd.duckdb_connect() as conn:\n",
    "    qd.duckdb_attach(conn, 'datas/duckdb/finance.db')\n",
    "    rec = duckdb_fetchrecarray(qd.duckdb_get_array(conn, \"finance\", 'bars_daily_000001_SZ'))\n",
    "    %timeit duckdb_fetchrecarray(qd.duckdb_get_array(conn, \"finance\", 'bars_daily_000001_SZ'))\n",
    "rec"
   ]
  },
  {
   "cell_type": "code",
   "execution_count": 18,
   "metadata": {},
   "outputs": [
    {
     "name": "stdout",
     "output_type": "stream",
     "text": [
      "37 ms ± 2.14 ms per loop (mean ± std. dev. of 7 runs, 10 loops each)\n"
     ]
    },
    {
     "data": {
      "text/plain": [
       "rec.array([('1991-01-03T00:00:00', '深发展Ａ', 66.4 , 66.4 , 66.4 , 66.4 ,     21200,    1410000, 67.41, 0.0000e+00, 0.00000e+00, 0.00000e+00, 0.000000e+00, 0.000000e+00, 0.     , 0.0000e+00, 0.    , 0.    , 4.50855987e+09, 2.46343987e+09,     0.  ,     0.  ,     0.  ,     0.  ,     0.  ,     0.  ,     0.  ,     0.  ,     0.  ,     0.  ,     0.  ,     0.  ,     0.  ,     0.  ,      0.  ,      0.  ,  0.  , 0.00057,    37099996,    67900000, 0, 0, 0, 0,  7.07077,  7.07077,  7.07077,  7.07077),\n",
       "           ('1991-01-04T00:00:00', '深发展Ａ', 66.07, 66.07, 66.07, 66.07,     16800,    1109000, 66.4 , 0.0000e+00, 0.00000e+00, 0.00000e+00, 0.000000e+00, 0.000000e+00, 0.     , 0.0000e+00, 0.    , 0.    , 4.48615322e+09, 2.45119693e+09,     0.  ,     0.  ,     0.  ,     0.  ,     0.  ,     0.  ,     0.  ,     0.  ,     0.  ,     0.  ,     0.  ,     0.  ,     0.  ,     0.  ,      0.  ,      0.  ,  0.  , 0.00045,    37100000,    67900000, 0, 0, 0, 0,  7.03562,  7.03562,  7.03562,  7.03562),\n",
       "           ('1991-01-07T00:00:00', '深发展Ａ', 66.42, 66.42, 66.42, 66.42,     40200,    2672000, 66.07, 0.0000e+00, 0.00000e+00, 0.00000e+00, 0.000000e+00, 0.000000e+00, 0.     , 0.0000e+00, 0.    , 0.    , 4.50991821e+09, 2.46418202e+09,     0.  ,     0.  ,     0.  ,     0.  ,     0.  ,     0.  ,     0.  ,     0.  ,     0.  ,     0.  ,     0.  ,     0.  ,     0.  ,     0.  ,      0.  ,      0.  ,  0.  , 0.00108,    37100000,    67900008, 0, 0, 0, 0,  7.0729 ,  7.0729 ,  7.0729 ,  7.0729 ),\n",
       "           ...,\n",
       "           ('2024-08-28T00:00:00', '平安银行', 10.41, 10.43, 10.28, 10.33,  94254754,  973872155, 10.43, 4.6947e+10, 1.61942e+11, 4.81869e+11, 5.754033e+12, 5.272164e+12, 0.91626, 1.0947e+10, 4.27  , 0.4866, 2.00463135e+11, 2.00460029e+11, 26744.8 , 27689.58, 16346.73, 23836.59, 28940.23, 27134.58, 25355.45, 18726.46, -8434.64, -6628.99,  -944.78,  1805.65, -7489.86,  6628.99,  97387.21,  97387.21,  0.  , 0.00486, 19405617528, 19405918198, 0, 0, 0, 0, 10.33   , 10.41   , 10.43   , 10.28   ),\n",
       "           ('2024-08-29T00:00:00', '平安银行', 10.31, 10.38, 10.11, 10.13, 119767631, 1221351092, 10.33, 4.6947e+10, 1.61942e+11, 4.81869e+11, 5.754033e+12, 5.272164e+12, 0.91626, 1.0947e+10, 4.1873, 0.4772, 1.96581951e+11, 1.96578906e+11, 37343.46, 41064.27, 25269.48, 30383.69, 31380.71, 26724.64, 28141.46, 23962.51, -8835.02, -4178.95, -3720.81,  4656.07, -5114.21,  4178.95, 122135.11, 122135.11,  0.  , 0.00617, 19405617528, 19405918198, 0, 0, 0, 0, 10.13   , 10.31   , 10.38   , 10.11   ),\n",
       "           ('2024-08-30T00:00:00', '平安银行', 10.11, 10.26, 10.11, 10.16, 129405908, 1318858688, 10.13, 4.6947e+10, 1.61942e+11, 4.81869e+11, 5.754033e+12, 5.272164e+12, 0.91626, 1.0947e+10, 4.1997, 0.4786, 1.97164129e+11, 1.97161074e+11, 42949.28, 38967.61, 31619.19, 24519.4 , 32079.85, 36547.39, 25237.54, 31851.47, 11081.46,  6613.92,  3981.67, -4467.54,  7099.79, -6613.93, 131885.88, 131885.86, -0.01, 0.00667, 19405617528, 19405918198, 0, 0, 0, 0, 10.16   , 10.11   , 10.26   , 10.11   )],\n",
       "          dtype=[('dt', '<M8[s]'), ('name', 'O'), ('_open', '<f4'), ('_high', '<f4'), ('_low', '<f4'), ('_close', '<f4'), ('volume', '<u4'), ('amount', '<u8'), ('preclose', '<f4'), ('net_profit_ttm', '<f4'), ('cashflow_ttm', '<f4'), ('equity', '<f4'), ('asset', '<f4'), ('debt', '<f4'), ('debttoasset', '<f4'), ('net_profit_q', '<f4'), ('pe_ttm', '<f4'), ('pb', '<f4'), ('mkt_cap', '<f8'), ('mkt_cap_ashare', '<f8'), ('vip_buy_amt', '<f4'), ('vip_sell_amt', '<f4'), ('inst_buy_amt', '<f4'), ('inst_sell_amt', '<f4'), ('mid_buy_amt', '<f4'), ('mid_sell_amt', '<f4'), ('indi_buy_amt', '<f4'), ('indi_sell_amt', '<f4'), ('master_net_flow_in', '<f4'), ('master2_net_flow_in', '<f4'), ('vip_net_flow_in', '<f4'), ('mid_net_flow_in', '<f4'), ('inst_net_flow_in', '<f4'), ('indi_net_flow_in', '<f4'), ('total_sell_amt', '<f4'), ('total_buy_amt', '<f4'), ('net_flow_in', '<f4'), ('turnover', '<f4'), ('free_shares', '<u8'), ('total_shares', '<u8'), ('maxupordown', 'i1'), ('maxupordown_at_open', 'i1'), ('lb_up_count', 'u1'), ('lb_down_count', 'u1'), ('close', '<f4'), ('open', '<f4'), ('high', '<f4'), ('low', '<f4')])"
      ]
     },
     "execution_count": 18,
     "metadata": {},
     "output_type": "execute_result"
    }
   ],
   "source": [
    "import quantdata as qd\n",
    "\n",
    "def duckdb_fetchrecarray(q):\n",
    "    return q.fetchdf().to_records(index=False)\n",
    "\n",
    "with qd.duckdb_connect() as conn:\n",
    "    qd.duckdb_attach(conn, 'datas/duckdb/finance.db')\n",
    "    rec = duckdb_fetchrecarray(qd.duckdb_get_array(conn, \"finance\", 'bars_daily_000001_SZ'))\n",
    "    %timeit duckdb_fetchrecarray(qd.duckdb_get_array(conn, \"finance\", 'bars_daily_000001_SZ'))\n",
    "rec"
   ]
  }
 ],
 "metadata": {
  "kernelspec": {
   "display_name": "base",
   "language": "python",
   "name": "python3"
  },
  "language_info": {
   "codemirror_mode": {
    "name": "ipython",
    "version": 3
   },
   "file_extension": ".py",
   "mimetype": "text/x-python",
   "name": "python",
   "nbconvert_exporter": "python",
   "pygments_lexer": "ipython3",
   "version": "3.9.19"
  }
 },
 "nbformat": 4,
 "nbformat_minor": 2
}
