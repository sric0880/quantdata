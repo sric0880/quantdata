{
 "cells": [
  {
   "cell_type": "markdown",
   "metadata": {},
   "source": [
    "\n",
    "## cn_stock/bars/daily"
   ]
  },
  {
   "cell_type": "markdown",
   "metadata": {},
   "source": [
    "### Overwrite"
   ]
  },
  {
   "cell_type": "code",
   "execution_count": 6,
   "metadata": {},
   "outputs": [
    {
     "name": "stdout",
     "output_type": "stream",
     "text": [
      "┌─────────────────────┬──────────┬───────┬───────┬───────┬───┬───────────────┬─────────┬─────────┬─────────┬─────────┐\n",
      "│         dt          │   name   │ _open │ _high │ _low  │ … │ lb_down_count │  close  │  open   │  high   │   low   │\n",
      "│     timestamp_s     │ varchar  │ float │ float │ float │   │     uint8     │  float  │  float  │  float  │  float  │\n",
      "├─────────────────────┼──────────┼───────┼───────┼───────┼───┼───────────────┼─────────┼─────────┼─────────┼─────────┤\n",
      "│ 1991-01-03 00:00:00 │ 深发展Ａ │  66.4 │  66.4 │  66.4 │ … │             0 │ 7.07077 │ 7.07077 │ 7.07077 │ 7.07077 │\n",
      "│ 1991-01-04 00:00:00 │ 深发展Ａ │ 66.07 │ 66.07 │ 66.07 │ … │             0 │ 7.03562 │ 7.03562 │ 7.03562 │ 7.03562 │\n",
      "│ 1991-01-07 00:00:00 │ 深发展Ａ │ 66.42 │ 66.42 │ 66.42 │ … │             0 │  7.0729 │  7.0729 │  7.0729 │  7.0729 │\n",
      "│ 1991-01-09 00:00:00 │ 深发展Ａ │ 65.76 │ 65.76 │ 65.76 │ … │             0 │ 7.00261 │ 7.00261 │ 7.00261 │ 7.00261 │\n",
      "│ 1991-01-10 00:00:00 │ 深发展Ａ │ 65.43 │ 65.43 │ 65.43 │ … │             0 │ 6.96747 │ 6.96747 │ 6.96747 │ 6.96747 │\n",
      "│ 1991-01-11 00:00:00 │ 深发展Ａ │  65.1 │  65.1 │  65.1 │ … │             0 │ 6.93233 │ 6.93233 │ 6.93233 │ 6.93233 │\n",
      "│ 1991-01-14 00:00:00 │ 深发展Ａ │ 64.45 │ 64.45 │ 64.45 │ … │             0 │ 6.86311 │ 6.86311 │ 6.86311 │ 6.86311 │\n",
      "│ 1991-01-15 00:00:00 │ 深发展Ａ │ 64.13 │ 64.13 │ 64.13 │ … │             0 │ 6.82904 │ 6.82904 │ 6.82904 │ 6.82904 │\n",
      "│ 1991-01-16 00:00:00 │ 深发展Ａ │ 63.81 │ 63.81 │ 63.81 │ … │             0 │ 6.79496 │ 6.79496 │ 6.79496 │ 6.79496 │\n",
      "│ 1991-01-17 00:00:00 │ 深发展Ａ │ 63.49 │ 63.49 │ 63.49 │ … │             0 │ 6.76089 │ 6.76089 │ 6.76089 │ 6.76089 │\n",
      "│          ·          │    ·     │   ·   │    ·  │   ·   │ · │             · │     ·   │     ·   │      ·  │     ·   │\n",
      "│          ·          │    ·     │   ·   │    ·  │   ·   │ · │             · │     ·   │     ·   │      ·  │     ·   │\n",
      "│          ·          │    ·     │   ·   │    ·  │   ·   │ · │             · │     ·   │     ·   │      ·  │     ·   │\n",
      "│ 2024-08-19 00:00:00 │ 平安银行 │ 10.13 │  10.3 │ 10.12 │ … │             0 │   10.29 │   10.13 │    10.3 │   10.12 │\n",
      "│ 2024-08-20 00:00:00 │ 平安银行 │ 10.32 │ 10.43 │ 10.28 │ … │             0 │   10.34 │   10.32 │   10.43 │   10.28 │\n",
      "│ 2024-08-21 00:00:00 │ 平安银行 │  10.3 │ 10.38 │ 10.21 │ … │             0 │   10.35 │    10.3 │   10.38 │   10.21 │\n",
      "│ 2024-08-22 00:00:00 │ 平安银行 │ 10.34 │ 10.45 │ 10.32 │ … │             0 │   10.38 │   10.34 │   10.45 │   10.32 │\n",
      "│ 2024-08-23 00:00:00 │ 平安银行 │ 10.39 │  10.5 │ 10.32 │ … │             0 │   10.47 │   10.39 │    10.5 │   10.32 │\n",
      "│ 2024-08-26 00:00:00 │ 平安银行 │  10.5 │ 10.55 │ 10.42 │ … │             0 │   10.49 │    10.5 │   10.55 │   10.42 │\n",
      "│ 2024-08-27 00:00:00 │ 平安银行 │ 10.47 │ 10.52 │ 10.37 │ … │             0 │   10.43 │   10.47 │   10.52 │   10.37 │\n",
      "│ 2024-08-28 00:00:00 │ 平安银行 │ 10.41 │ 10.43 │ 10.28 │ … │             0 │   10.33 │   10.41 │   10.43 │   10.28 │\n",
      "│ 2024-08-29 00:00:00 │ 平安银行 │ 10.31 │ 10.38 │ 10.11 │ … │             0 │   10.13 │   10.31 │   10.38 │   10.11 │\n",
      "│ 2024-08-30 00:00:00 │ 平安银行 │ 10.11 │ 10.26 │ 10.11 │ … │             0 │   10.16 │   10.11 │   10.26 │   10.11 │\n",
      "├─────────────────────┴──────────┴───────┴───────┴───────┴───┴───────────────┴─────────┴─────────┴─────────┴─────────┤\n",
      "│ 7990 rows (20 shown)                                                                         48 columns (10 shown) │\n",
      "└────────────────────────────────────────────────────────────────────────────────────────────────────────────────────┘\n",
      "\n"
     ]
    }
   ],
   "source": [
    "import duckdb\n",
    "\n",
    "with duckdb.connect(\"datas/duckdb/finance.db\") as conn:\n",
    "    with open(\"finance.duckdb.sql\") as f:\n",
    "        conn.execute(\"drop table bars_daily_000001_SZ;\")\n",
    "        sql = f.read().format(tablename='000001_SZ', symbol='000001.SZ')\n",
    "        conn.execute(sql)\n",
    "    conn.table('bars_daily_000001_SZ').show()"
   ]
  },
  {
   "cell_type": "markdown",
   "metadata": {},
   "source": [
    "### Write"
   ]
  },
  {
   "cell_type": "code",
   "execution_count": 7,
   "metadata": {},
   "outputs": [],
   "source": [
    "import duckdb\n",
    "\n",
    "with duckdb.connect(\"datas/duckdb/finance.db\") as conn:\n",
    "    insert_sql = f\"INSERT INTO bars_daily_000001_SZ SELECT dt,name,_open,_high,_low,_close,volume,amount,preclose,net_profit_ttm,cashflow_ttm,equity,asset,debt,debttoasset,net_profit_q,pe_ttm,pb,mkt_cap,mkt_cap_ashare,vip_buy_amt,vip_sell_amt,inst_buy_amt,inst_sell_amt,mid_buy_amt,mid_sell_amt,indi_buy_amt,indi_sell_amt,master_net_flow_in,master2_net_flow_in,vip_net_flow_in,mid_net_flow_in,inst_net_flow_in,indi_net_flow_in,total_sell_amt,total_buy_amt,net_flow_in,turnover,free_shares,total_shares,maxupordown,maxupordown_at_open,lb_up_count,lb_down_count,close,open,high,low FROM 'datasources/data_append.csv' where symbol='000001.SZ';\"\n",
    "    conn.execute(insert_sql)"
   ]
  },
  {
   "cell_type": "markdown",
   "metadata": {},
   "source": [
    "### Delete"
   ]
  },
  {
   "cell_type": "code",
   "execution_count": 8,
   "metadata": {},
   "outputs": [],
   "source": [
    "import duckdb\n",
    "\n",
    "with duckdb.connect(\"datas/duckdb/finance.db\") as conn:\n",
    "    # 删除不存在的行不会报错\n",
    "    insert_sql = f\"DELETE FROM bars_daily_000001_SZ WHERE dt = '2024-09-02 00:00:00';\"\n",
    "    conn.execute(insert_sql)"
   ]
  },
  {
   "cell_type": "markdown",
   "metadata": {},
   "source": [
    "### Read"
   ]
  },
  {
   "cell_type": "code",
   "execution_count": 12,
   "metadata": {},
   "outputs": [
    {
     "data": {
      "text/html": [
       "<div>\n",
       "<style scoped>\n",
       "    .dataframe tbody tr th:only-of-type {\n",
       "        vertical-align: middle;\n",
       "    }\n",
       "\n",
       "    .dataframe tbody tr th {\n",
       "        vertical-align: top;\n",
       "    }\n",
       "\n",
       "    .dataframe thead th {\n",
       "        text-align: right;\n",
       "    }\n",
       "</style>\n",
       "<table border=\"1\" class=\"dataframe\">\n",
       "  <thead>\n",
       "    <tr style=\"text-align: right;\">\n",
       "      <th></th>\n",
       "      <th>dt</th>\n",
       "      <th>name</th>\n",
       "      <th>open</th>\n",
       "    </tr>\n",
       "  </thead>\n",
       "  <tbody>\n",
       "    <tr>\n",
       "      <th>0</th>\n",
       "      <td>2024-08-26</td>\n",
       "      <td>平安银行</td>\n",
       "      <td>10.50</td>\n",
       "    </tr>\n",
       "    <tr>\n",
       "      <th>1</th>\n",
       "      <td>2024-08-27</td>\n",
       "      <td>平安银行</td>\n",
       "      <td>10.47</td>\n",
       "    </tr>\n",
       "    <tr>\n",
       "      <th>2</th>\n",
       "      <td>2024-08-28</td>\n",
       "      <td>平安银行</td>\n",
       "      <td>10.41</td>\n",
       "    </tr>\n",
       "    <tr>\n",
       "      <th>3</th>\n",
       "      <td>2024-08-29</td>\n",
       "      <td>平安银行</td>\n",
       "      <td>10.31</td>\n",
       "    </tr>\n",
       "    <tr>\n",
       "      <th>4</th>\n",
       "      <td>2024-08-30</td>\n",
       "      <td>平安银行</td>\n",
       "      <td>10.11</td>\n",
       "    </tr>\n",
       "  </tbody>\n",
       "</table>\n",
       "</div>"
      ],
      "text/plain": [
       "          dt  name   open\n",
       "0 2024-08-26  平安银行  10.50\n",
       "1 2024-08-27  平安银行  10.47\n",
       "2 2024-08-28  平安银行  10.41\n",
       "3 2024-08-29  平安银行  10.31\n",
       "4 2024-08-30  平安银行  10.11"
      ]
     },
     "execution_count": 12,
     "metadata": {},
     "output_type": "execute_result"
    }
   ],
   "source": [
    "import quantdata as qd\n",
    "\n",
    "with qd.duckdb_connect('datas/duckdb/finance.db') as conn:\n",
    "    # df = qd.duckdb_get_array(conn, 'bars_daily_000001_SZ').df()\n",
    "    # df = qd.duckdb_get_array(conn, 'bars_daily_000001_SZ', attrs=['dt', 'name', 'open']).df()\n",
    "    # df = qd.duckdb_get_array(conn, 'bars_daily_000001_SZ', attrs=['dt', 'name', 'open'], filter=\"dt>'2024-08-29 00:00:00' and open > 10.08\").df()\n",
    "    # 最后一行(所有列)\n",
    "    # df = qd.duckdb_get_array_last_rows(conn, 'bars_daily_000001_sz').df()\n",
    "    # 最后一行(自定义列)\n",
    "    # df = qd.duckdb_get_array_last_rows(conn, 'bars_daily_000001_SZ', attrs=['dt', 'name', 'open']).df()\n",
    "    # 最后5行\n",
    "    df = qd.duckdb_get_array_last_rows(conn, 'bars_daily_000001_SZ', attrs=['dt', 'name', 'open'], N=5).df()\n",
    "    # df = qd.duckdb_get_array_last_rows(conn, 'bars_daily_000001_SZ', N=1).df()\n",
    "df"
   ]
  },
  {
   "cell_type": "code",
   "execution_count": 16,
   "metadata": {},
   "outputs": [
    {
     "name": "stdout",
     "output_type": "stream",
     "text": [
      "11.5 ms ± 1.01 ms per loop (mean ± std. dev. of 7 runs, 100 loops each)\n"
     ]
    },
    {
     "ename": "CatalogException",
     "evalue": "Catalog Error: Table with name bars_daily_000002_SZ does not exist!\nDid you mean \"bars_daily_000001_SZ\"?",
     "output_type": "error",
     "traceback": [
      "\u001b[0;31m---------------------------------------------------------------------------\u001b[0m",
      "\u001b[0;31mCatalogException\u001b[0m                          Traceback (most recent call last)",
      "Cell \u001b[0;32mIn[16], line 5\u001b[0m\n\u001b[1;32m      3\u001b[0m \u001b[38;5;28;01mwith\u001b[39;00m qd\u001b[38;5;241m.\u001b[39mduckdb_connect(\u001b[38;5;124m'\u001b[39m\u001b[38;5;124mdatas/duckdb/finance.db\u001b[39m\u001b[38;5;124m'\u001b[39m) \u001b[38;5;28;01mas\u001b[39;00m conn:\n\u001b[1;32m      4\u001b[0m     get_ipython()\u001b[38;5;241m.\u001b[39mrun_line_magic(\u001b[38;5;124m'\u001b[39m\u001b[38;5;124mtimeit\u001b[39m\u001b[38;5;124m'\u001b[39m, \u001b[38;5;124m\"\u001b[39m\u001b[38;5;124mqd.duckdb_get_array(conn, \u001b[39m\u001b[38;5;124m'\u001b[39m\u001b[38;5;124mbars_daily_000001_SZ\u001b[39m\u001b[38;5;124m'\u001b[39m\u001b[38;5;124m).fetchnumpy()\u001b[39m\u001b[38;5;124m\"\u001b[39m)\n\u001b[0;32m----> 5\u001b[0m     \u001b[43mget_ipython\u001b[49m\u001b[43m(\u001b[49m\u001b[43m)\u001b[49m\u001b[38;5;241;43m.\u001b[39;49m\u001b[43mrun_line_magic\u001b[49m\u001b[43m(\u001b[49m\u001b[38;5;124;43m'\u001b[39;49m\u001b[38;5;124;43mtimeit\u001b[39;49m\u001b[38;5;124;43m'\u001b[39;49m\u001b[43m,\u001b[49m\u001b[43m \u001b[49m\u001b[38;5;124;43m\"\u001b[39;49m\u001b[38;5;124;43m qd.duckdb_get_array(conn, \u001b[39;49m\u001b[38;5;124;43m'\u001b[39;49m\u001b[38;5;124;43mbars_daily_000002_SZ\u001b[39;49m\u001b[38;5;124;43m'\u001b[39;49m\u001b[38;5;124;43m, attrs=[\u001b[39;49m\u001b[38;5;124;43m'\u001b[39;49m\u001b[38;5;124;43mdt\u001b[39;49m\u001b[38;5;124;43m'\u001b[39;49m\u001b[38;5;124;43m, \u001b[39;49m\u001b[38;5;124;43m'\u001b[39;49m\u001b[38;5;124;43mname\u001b[39;49m\u001b[38;5;124;43m'\u001b[39;49m\u001b[38;5;124;43m, \u001b[39;49m\u001b[38;5;124;43m'\u001b[39;49m\u001b[38;5;124;43mopen\u001b[39;49m\u001b[38;5;124;43m'\u001b[39;49m\u001b[38;5;124;43m]).fetchnumpy()\u001b[39;49m\u001b[38;5;124;43m\"\u001b[39;49m\u001b[43m)\u001b[49m\n\u001b[1;32m      6\u001b[0m     get_ipython()\u001b[38;5;241m.\u001b[39mrun_line_magic(\u001b[38;5;124m'\u001b[39m\u001b[38;5;124mtimeit\u001b[39m\u001b[38;5;124m'\u001b[39m, \u001b[38;5;124m'\u001b[39m\u001b[38;5;124m qd.duckdb_get_array(conn, \u001b[39m\u001b[38;5;130;01m\\'\u001b[39;00m\u001b[38;5;124mbars_daily_000003_SZ\u001b[39m\u001b[38;5;130;01m\\'\u001b[39;00m\u001b[38;5;124m, attrs=[\u001b[39m\u001b[38;5;130;01m\\'\u001b[39;00m\u001b[38;5;124mdt\u001b[39m\u001b[38;5;130;01m\\'\u001b[39;00m\u001b[38;5;124m, \u001b[39m\u001b[38;5;130;01m\\'\u001b[39;00m\u001b[38;5;124mname\u001b[39m\u001b[38;5;130;01m\\'\u001b[39;00m\u001b[38;5;124m, \u001b[39m\u001b[38;5;130;01m\\'\u001b[39;00m\u001b[38;5;124mopen\u001b[39m\u001b[38;5;130;01m\\'\u001b[39;00m\u001b[38;5;124m], filter=\u001b[39m\u001b[38;5;124m\"\u001b[39m\u001b[38;5;124mdt>\u001b[39m\u001b[38;5;130;01m\\'\u001b[39;00m\u001b[38;5;124m2024-08-29 08:00:00\u001b[39m\u001b[38;5;130;01m\\'\u001b[39;00m\u001b[38;5;124m and open > 10.08\u001b[39m\u001b[38;5;124m\"\u001b[39m\u001b[38;5;124m).fetchnumpy()\u001b[39m\u001b[38;5;124m'\u001b[39m)\n\u001b[1;32m      7\u001b[0m     \u001b[38;5;66;03m# # 最后一行(所有列)\u001b[39;00m\n",
      "File \u001b[0;32m~/opt/miniconda3/lib/python3.9/site-packages/IPython/core/interactiveshell.py:2432\u001b[0m, in \u001b[0;36mInteractiveShell.run_line_magic\u001b[0;34m(self, magic_name, line, _stack_depth)\u001b[0m\n\u001b[1;32m   2430\u001b[0m     kwargs[\u001b[38;5;124m'\u001b[39m\u001b[38;5;124mlocal_ns\u001b[39m\u001b[38;5;124m'\u001b[39m] \u001b[38;5;241m=\u001b[39m \u001b[38;5;28mself\u001b[39m\u001b[38;5;241m.\u001b[39mget_local_scope(stack_depth)\n\u001b[1;32m   2431\u001b[0m \u001b[38;5;28;01mwith\u001b[39;00m \u001b[38;5;28mself\u001b[39m\u001b[38;5;241m.\u001b[39mbuiltin_trap:\n\u001b[0;32m-> 2432\u001b[0m     result \u001b[38;5;241m=\u001b[39m \u001b[43mfn\u001b[49m\u001b[43m(\u001b[49m\u001b[38;5;241;43m*\u001b[39;49m\u001b[43margs\u001b[49m\u001b[43m,\u001b[49m\u001b[43m \u001b[49m\u001b[38;5;241;43m*\u001b[39;49m\u001b[38;5;241;43m*\u001b[39;49m\u001b[43mkwargs\u001b[49m\u001b[43m)\u001b[49m\n\u001b[1;32m   2434\u001b[0m \u001b[38;5;66;03m# The code below prevents the output from being displayed\u001b[39;00m\n\u001b[1;32m   2435\u001b[0m \u001b[38;5;66;03m# when using magics with decorator @output_can_be_silenced\u001b[39;00m\n\u001b[1;32m   2436\u001b[0m \u001b[38;5;66;03m# when the last Python token in the expression is a ';'.\u001b[39;00m\n\u001b[1;32m   2437\u001b[0m \u001b[38;5;28;01mif\u001b[39;00m \u001b[38;5;28mgetattr\u001b[39m(fn, magic\u001b[38;5;241m.\u001b[39mMAGIC_OUTPUT_CAN_BE_SILENCED, \u001b[38;5;28;01mFalse\u001b[39;00m):\n",
      "File \u001b[0;32m~/opt/miniconda3/lib/python3.9/site-packages/IPython/core/magics/execution.py:1185\u001b[0m, in \u001b[0;36mExecutionMagics.timeit\u001b[0;34m(self, line, cell, local_ns)\u001b[0m\n\u001b[1;32m   1183\u001b[0m \u001b[38;5;28;01mfor\u001b[39;00m index \u001b[38;5;129;01min\u001b[39;00m \u001b[38;5;28mrange\u001b[39m(\u001b[38;5;241m0\u001b[39m, \u001b[38;5;241m10\u001b[39m):\n\u001b[1;32m   1184\u001b[0m     number \u001b[38;5;241m=\u001b[39m \u001b[38;5;241m10\u001b[39m \u001b[38;5;241m*\u001b[39m\u001b[38;5;241m*\u001b[39m index\n\u001b[0;32m-> 1185\u001b[0m     time_number \u001b[38;5;241m=\u001b[39m \u001b[43mtimer\u001b[49m\u001b[38;5;241;43m.\u001b[39;49m\u001b[43mtimeit\u001b[49m\u001b[43m(\u001b[49m\u001b[43mnumber\u001b[49m\u001b[43m)\u001b[49m\n\u001b[1;32m   1186\u001b[0m     \u001b[38;5;28;01mif\u001b[39;00m time_number \u001b[38;5;241m>\u001b[39m\u001b[38;5;241m=\u001b[39m \u001b[38;5;241m0.2\u001b[39m:\n\u001b[1;32m   1187\u001b[0m         \u001b[38;5;28;01mbreak\u001b[39;00m\n",
      "File \u001b[0;32m~/opt/miniconda3/lib/python3.9/site-packages/IPython/core/magics/execution.py:173\u001b[0m, in \u001b[0;36mTimer.timeit\u001b[0;34m(self, number)\u001b[0m\n\u001b[1;32m    171\u001b[0m gc\u001b[38;5;241m.\u001b[39mdisable()\n\u001b[1;32m    172\u001b[0m \u001b[38;5;28;01mtry\u001b[39;00m:\n\u001b[0;32m--> 173\u001b[0m     timing \u001b[38;5;241m=\u001b[39m \u001b[38;5;28;43mself\u001b[39;49m\u001b[38;5;241;43m.\u001b[39;49m\u001b[43minner\u001b[49m\u001b[43m(\u001b[49m\u001b[43mit\u001b[49m\u001b[43m,\u001b[49m\u001b[43m \u001b[49m\u001b[38;5;28;43mself\u001b[39;49m\u001b[38;5;241;43m.\u001b[39;49m\u001b[43mtimer\u001b[49m\u001b[43m)\u001b[49m\n\u001b[1;32m    174\u001b[0m \u001b[38;5;28;01mfinally\u001b[39;00m:\n\u001b[1;32m    175\u001b[0m     \u001b[38;5;28;01mif\u001b[39;00m gcold:\n",
      "File \u001b[0;32m<magic-timeit>:1\u001b[0m, in \u001b[0;36minner\u001b[0;34m(_it, _timer)\u001b[0m\n",
      "File \u001b[0;32m~/opt/miniconda3/lib/python3.9/site-packages/quantdata/__init__.py:244\u001b[0m, in \u001b[0;36mduckdb_get_array\u001b[0;34m(conn, tablename, attrs, filter)\u001b[0m\n\u001b[1;32m    242\u001b[0m \u001b[38;5;28;01mdef\u001b[39;00m \u001b[38;5;21mduckdb_get_array\u001b[39m(conn, tablename, attrs:\u001b[38;5;28mlist\u001b[39m\u001b[38;5;241m=\u001b[39m\u001b[38;5;28;01mNone\u001b[39;00m, \u001b[38;5;28mfilter\u001b[39m:\u001b[38;5;28mstr\u001b[39m\u001b[38;5;241m=\u001b[39m\u001b[38;5;28;01mNone\u001b[39;00m):\n\u001b[1;32m    243\u001b[0m     names \u001b[38;5;241m=\u001b[39m \u001b[38;5;124m'\u001b[39m\u001b[38;5;124m,\u001b[39m\u001b[38;5;124m'\u001b[39m\u001b[38;5;241m.\u001b[39mjoin(attrs) \u001b[38;5;28;01mif\u001b[39;00m attrs \u001b[38;5;28;01melse\u001b[39;00m \u001b[38;5;124m'\u001b[39m\u001b[38;5;124m*\u001b[39m\u001b[38;5;124m'\u001b[39m\n\u001b[0;32m--> 244\u001b[0m     q \u001b[38;5;241m=\u001b[39m \u001b[43mconn\u001b[49m\u001b[38;5;241;43m.\u001b[39;49m\u001b[43msql\u001b[49m\u001b[43m(\u001b[49m\u001b[38;5;124;43mf\u001b[39;49m\u001b[38;5;124;43m\"\u001b[39;49m\u001b[38;5;124;43mselect \u001b[39;49m\u001b[38;5;132;43;01m{\u001b[39;49;00m\u001b[43mnames\u001b[49m\u001b[38;5;132;43;01m}\u001b[39;49;00m\u001b[38;5;124;43m from A.\u001b[39;49m\u001b[38;5;132;43;01m{\u001b[39;49;00m\u001b[43mtablename\u001b[49m\u001b[38;5;132;43;01m}\u001b[39;49;00m\u001b[38;5;124;43m\"\u001b[39;49m\u001b[43m)\u001b[49m\n\u001b[1;32m    245\u001b[0m     \u001b[38;5;28;01mif\u001b[39;00m \u001b[38;5;28mfilter\u001b[39m:\n\u001b[1;32m    246\u001b[0m         q \u001b[38;5;241m=\u001b[39m q\u001b[38;5;241m.\u001b[39mfilter(\u001b[38;5;28mfilter\u001b[39m)\n",
      "\u001b[0;31mCatalogException\u001b[0m: Catalog Error: Table with name bars_daily_000002_SZ does not exist!\nDid you mean \"bars_daily_000001_SZ\"?"
     ]
    }
   ],
   "source": [
    "import quantdata as qd\n",
    "\n",
    "with qd.duckdb_connect('datas/duckdb/finance.db') as conn:\n",
    "    %timeit qd.duckdb_get_array(conn, 'bars_daily_000001_SZ').fetchnumpy()\n",
    "    %timeit  qd.duckdb_get_array(conn, 'bars_daily_000002_SZ', attrs=['dt', 'name', 'open']).fetchnumpy()\n",
    "    %timeit  qd.duckdb_get_array(conn, 'bars_daily_000003_SZ', attrs=['dt', 'name', 'open'], filter=\"dt>'2024-08-29 00:00:00' and open > 10.08\").fetchnumpy()\n",
    "    # # 最后一行(所有列)\n",
    "    %timeit  qd.duckdb_get_array_last_rows(conn, 'bars_daily_000005_SZ').fetchnumpy()\n",
    "    # # 最后一行(自定义列)\n",
    "    %timeit  qd.duckdb_get_array_last_rows(conn, 'bars_daily_000008_SZ', attrs=['dt', 'name', 'open']).fetchnumpy()\n",
    "    # # 最后5行\n",
    "    %timeit qd.duckdb_get_array_last_rows(conn, 'bars_daily_000010_SZ', attrs=['dt', 'name', 'open'], N=5).fetchnumpy()\n",
    "    %timeit  qd.duckdb_get_array_last_rows(conn, 'bars_daily_000001_SZ', N=5).fetchnumpy()"
   ]
  },
  {
   "cell_type": "markdown",
   "metadata": {},
   "source": []
  },
  {
   "cell_type": "code",
   "execution_count": 10,
   "metadata": {},
   "outputs": [
    {
     "name": "stdout",
     "output_type": "stream",
     "text": [
      "23.8 ms ± 6.04 ms per loop (mean ± std. dev. of 7 runs, 10 loops each)\n"
     ]
    }
   ],
   "source": [
    "import duckdb\n",
    "\n",
    "def duckdb_connect(uri):\n",
    "    conn = duckdb.connect()\n",
    "    try:\n",
    "        conn.execute(f\"ATTACH '{uri}' as A (READ_ONLY);USE A;\")\n",
    "        return conn\n",
    "    except:\n",
    "        conn.close()\n",
    "        raise\n",
    "\n",
    "\n",
    "def duckdb_close(conn):\n",
    "    conn.close()\n",
    "\n",
    "\n",
    "def test_conn():\n",
    "    conn = duckdb_connect('datas/duckdb/finance.db')\n",
    "    duckdb_close(conn)\n",
    "\n",
    "%timeit test_conn()"
   ]
  },
  {
   "cell_type": "markdown",
   "metadata": {},
   "source": []
  }
 ],
 "metadata": {
  "kernelspec": {
   "display_name": "base",
   "language": "python",
   "name": "python3"
  },
  "language_info": {
   "codemirror_mode": {
    "name": "ipython",
    "version": 3
   },
   "file_extension": ".py",
   "mimetype": "text/x-python",
   "name": "python",
   "nbconvert_exporter": "python",
   "pygments_lexer": "ipython3",
   "version": "3.9.19"
  }
 },
 "nbformat": 4,
 "nbformat_minor": 2
}
