{
 "cells": [
  {
   "cell_type": "markdown",
   "metadata": {},
   "source": [
    "\n",
    "## cn_stock/bars/daily"
   ]
  },
  {
   "cell_type": "markdown",
   "metadata": {},
   "source": [
    "### Write\n",
    "\n",
    "command line tools:\n",
    "\n",
    "```sh\n",
    "duckdb\n",
    ".open datas/duckdb/finance.db\n",
    "drop table bars_daily;\n",
    ".read finance.duckdb.sql\n",
    "DESCRIBE bars_daily;\n",
    "```\n",
    "\n",
    "or python:"
   ]
  },
  {
   "cell_type": "code",
   "execution_count": 11,
   "metadata": {},
   "outputs": [
    {
     "name": "stdout",
     "output_type": "stream",
     "text": [
      "┌─────────────────────┬──────────┬───────┬───────┬───────┬───┬───────────────┬─────────┬─────────┬─────────┬─────────┐\n",
      "│         dt          │   name   │ _open │ _high │ _low  │ … │ lb_down_count │  close  │  open   │  high   │   low   │\n",
      "│     timestamp_s     │ varchar  │ float │ float │ float │   │     uint8     │  float  │  float  │  float  │  float  │\n",
      "├─────────────────────┼──────────┼───────┼───────┼───────┼───┼───────────────┼─────────┼─────────┼─────────┼─────────┤\n",
      "│ 1991-01-03 08:00:00 │ 深发展Ａ │  66.4 │  66.4 │  66.4 │ … │             0 │ 7.07077 │ 7.07077 │ 7.07077 │ 7.07077 │\n",
      "│ 1991-01-04 08:00:00 │ 深发展Ａ │ 66.07 │ 66.07 │ 66.07 │ … │             0 │ 7.03562 │ 7.03562 │ 7.03562 │ 7.03562 │\n",
      "│ 1991-01-07 08:00:00 │ 深发展Ａ │ 66.42 │ 66.42 │ 66.42 │ … │             0 │  7.0729 │  7.0729 │  7.0729 │  7.0729 │\n",
      "│ 1991-01-09 08:00:00 │ 深发展Ａ │ 65.76 │ 65.76 │ 65.76 │ … │             0 │ 7.00261 │ 7.00261 │ 7.00261 │ 7.00261 │\n",
      "│ 1991-01-10 08:00:00 │ 深发展Ａ │ 65.43 │ 65.43 │ 65.43 │ … │             0 │ 6.96747 │ 6.96747 │ 6.96747 │ 6.96747 │\n",
      "│ 1991-01-11 08:00:00 │ 深发展Ａ │  65.1 │  65.1 │  65.1 │ … │             0 │ 6.93233 │ 6.93233 │ 6.93233 │ 6.93233 │\n",
      "│ 1991-01-14 08:00:00 │ 深发展Ａ │ 64.45 │ 64.45 │ 64.45 │ … │             0 │ 6.86311 │ 6.86311 │ 6.86311 │ 6.86311 │\n",
      "│ 1991-01-15 08:00:00 │ 深发展Ａ │ 64.13 │ 64.13 │ 64.13 │ … │             0 │ 6.82904 │ 6.82904 │ 6.82904 │ 6.82904 │\n",
      "│ 1991-01-16 08:00:00 │ 深发展Ａ │ 63.81 │ 63.81 │ 63.81 │ … │             0 │ 6.79496 │ 6.79496 │ 6.79496 │ 6.79496 │\n",
      "│ 1991-01-17 08:00:00 │ 深发展Ａ │ 63.49 │ 63.49 │ 63.49 │ … │             0 │ 6.76089 │ 6.76089 │ 6.76089 │ 6.76089 │\n",
      "│          ·          │    ·     │   ·   │   ·   │   ·   │ · │             · │     ·   │     ·   │     ·   │     ·   │\n",
      "│          ·          │    ·     │   ·   │   ·   │   ·   │ · │             · │     ·   │     ·   │     ·   │     ·   │\n",
      "│          ·          │    ·     │   ·   │   ·   │   ·   │ · │             · │     ·   │     ·   │     ·   │     ·   │\n",
      "│ 2024-08-05 08:00:00 │ 平安银行 │ 10.11 │ 10.22 │ 10.05 │ … │             0 │   10.05 │   10.11 │   10.22 │   10.05 │\n",
      "│ 2024-08-06 08:00:00 │ 平安银行 │ 10.07 │ 10.12 │  9.89 │ … │             0 │    9.93 │   10.07 │   10.12 │    9.89 │\n",
      "│ 2024-08-07 08:00:00 │ 平安银行 │  9.95 │  9.98 │  9.91 │ … │             0 │    9.93 │    9.95 │    9.98 │    9.91 │\n",
      "│ 2024-08-08 08:00:00 │ 平安银行 │  9.92 │  9.98 │   9.9 │ … │             0 │    9.94 │    9.92 │    9.98 │     9.9 │\n",
      "│ 2024-08-09 08:00:00 │ 平安银行 │  9.96 │  10.1 │  9.94 │ … │             0 │   10.04 │    9.96 │    10.1 │    9.94 │\n",
      "│ 2024-08-12 08:00:00 │ 平安银行 │ 10.02 │ 10.05 │  9.98 │ … │             0 │   10.01 │   10.02 │   10.05 │    9.98 │\n",
      "│ 2024-08-13 08:00:00 │ 平安银行 │ 10.02 │ 10.03 │  9.92 │ … │             0 │    9.95 │   10.02 │   10.03 │    9.92 │\n",
      "│ 2024-08-14 08:00:00 │ 平安银行 │  9.94 │  9.98 │  9.91 │ … │             0 │    9.92 │    9.94 │    9.98 │    9.91 │\n",
      "│ 2024-08-15 08:00:00 │ 平安银行 │  9.92 │ 10.06 │  9.87 │ … │             0 │   10.03 │    9.92 │   10.06 │    9.87 │\n",
      "│ 2024-08-16 08:00:00 │ 平安银行 │ 10.08 │ 10.21 │ 10.05 │ … │             0 │   10.13 │   10.08 │   10.21 │   10.05 │\n",
      "├─────────────────────┴──────────┴───────┴───────┴───────┴───┴───────────────┴─────────┴─────────┴─────────┴─────────┤\n",
      "│ 7980 rows (20 shown)                                                                         48 columns (10 shown) │\n",
      "└────────────────────────────────────────────────────────────────────────────────────────────────────────────────────┘\n",
      "\n"
     ]
    }
   ],
   "source": [
    "import duckdb\n",
    "\n",
    "with duckdb.connect(\"datas/duckdb/finance.db\") as conn:\n",
    "    with open(\"finance.duckdb.sql\") as f:\n",
    "        conn.execute(f.read())\n",
    "    conn.table('bars_daily').show()"
   ]
  },
  {
   "cell_type": "markdown",
   "metadata": {},
   "source": [
    "### Read"
   ]
  },
  {
   "cell_type": "code",
   "execution_count": 18,
   "metadata": {},
   "outputs": [
    {
     "name": "stdout",
     "output_type": "stream",
     "text": [
      "2.59 ms ± 223 µs per loop (mean ± std. dev. of 7 runs, 100 loops each)\n"
     ]
    }
   ],
   "source": [
    "import duckdb\n",
    "\n",
    "def f(conn):\n",
    "    conn.execute(\"ATTACH '//DESKTOP-6NI30V4/bt_data/duckdb/finance.db' as finance_db (READ_ONLY)\")\n",
    "    conn.sql(\"select * from finance_db.bars_daily\").fetchnumpy()\n",
    "    # conn.sql(\"select dt, name, open from finance_db.bars_daily\").fetchnumpy()\n",
    "    conn.execute(\"DETACH finance_db\")\n",
    "\n",
    "with duckdb.connect() as conn:\n",
    "    %timeit f(conn)"
   ]
  },
  {
   "cell_type": "code",
   "execution_count": 23,
   "metadata": {},
   "outputs": [
    {
     "data": {
      "text/html": [
       "<div>\n",
       "<style scoped>\n",
       "    .dataframe tbody tr th:only-of-type {\n",
       "        vertical-align: middle;\n",
       "    }\n",
       "\n",
       "    .dataframe tbody tr th {\n",
       "        vertical-align: top;\n",
       "    }\n",
       "\n",
       "    .dataframe thead th {\n",
       "        text-align: right;\n",
       "    }\n",
       "</style>\n",
       "<table border=\"1\" class=\"dataframe\">\n",
       "  <thead>\n",
       "    <tr style=\"text-align: right;\">\n",
       "      <th></th>\n",
       "      <th>dt</th>\n",
       "      <th>name</th>\n",
       "      <th>open</th>\n",
       "    </tr>\n",
       "  </thead>\n",
       "  <tbody>\n",
       "    <tr>\n",
       "      <th>0</th>\n",
       "      <td>1991-01-03 08:00:00</td>\n",
       "      <td>深发展Ａ</td>\n",
       "      <td>7.07077</td>\n",
       "    </tr>\n",
       "    <tr>\n",
       "      <th>1</th>\n",
       "      <td>1991-01-04 08:00:00</td>\n",
       "      <td>深发展Ａ</td>\n",
       "      <td>7.03562</td>\n",
       "    </tr>\n",
       "    <tr>\n",
       "      <th>2</th>\n",
       "      <td>1991-01-07 08:00:00</td>\n",
       "      <td>深发展Ａ</td>\n",
       "      <td>7.07290</td>\n",
       "    </tr>\n",
       "    <tr>\n",
       "      <th>3</th>\n",
       "      <td>1991-01-09 08:00:00</td>\n",
       "      <td>深发展Ａ</td>\n",
       "      <td>7.00261</td>\n",
       "    </tr>\n",
       "    <tr>\n",
       "      <th>4</th>\n",
       "      <td>1991-01-10 08:00:00</td>\n",
       "      <td>深发展Ａ</td>\n",
       "      <td>6.96747</td>\n",
       "    </tr>\n",
       "    <tr>\n",
       "      <th>...</th>\n",
       "      <td>...</td>\n",
       "      <td>...</td>\n",
       "      <td>...</td>\n",
       "    </tr>\n",
       "    <tr>\n",
       "      <th>7975</th>\n",
       "      <td>2024-08-12 08:00:00</td>\n",
       "      <td>平安银行</td>\n",
       "      <td>10.02000</td>\n",
       "    </tr>\n",
       "    <tr>\n",
       "      <th>7976</th>\n",
       "      <td>2024-08-13 08:00:00</td>\n",
       "      <td>平安银行</td>\n",
       "      <td>10.02000</td>\n",
       "    </tr>\n",
       "    <tr>\n",
       "      <th>7977</th>\n",
       "      <td>2024-08-14 08:00:00</td>\n",
       "      <td>平安银行</td>\n",
       "      <td>9.94000</td>\n",
       "    </tr>\n",
       "    <tr>\n",
       "      <th>7978</th>\n",
       "      <td>2024-08-15 08:00:00</td>\n",
       "      <td>平安银行</td>\n",
       "      <td>9.92000</td>\n",
       "    </tr>\n",
       "    <tr>\n",
       "      <th>7979</th>\n",
       "      <td>2024-08-16 08:00:00</td>\n",
       "      <td>平安银行</td>\n",
       "      <td>10.08000</td>\n",
       "    </tr>\n",
       "  </tbody>\n",
       "</table>\n",
       "<p>7980 rows × 3 columns</p>\n",
       "</div>"
      ],
      "text/plain": [
       "                      dt  name      open\n",
       "0    1991-01-03 08:00:00  深发展Ａ   7.07077\n",
       "1    1991-01-04 08:00:00  深发展Ａ   7.03562\n",
       "2    1991-01-07 08:00:00  深发展Ａ   7.07290\n",
       "3    1991-01-09 08:00:00  深发展Ａ   7.00261\n",
       "4    1991-01-10 08:00:00  深发展Ａ   6.96747\n",
       "...                  ...   ...       ...\n",
       "7975 2024-08-12 08:00:00  平安银行  10.02000\n",
       "7976 2024-08-13 08:00:00  平安银行  10.02000\n",
       "7977 2024-08-14 08:00:00  平安银行   9.94000\n",
       "7978 2024-08-15 08:00:00  平安银行   9.92000\n",
       "7979 2024-08-16 08:00:00  平安银行  10.08000\n",
       "\n",
       "[7980 rows x 3 columns]"
      ]
     },
     "execution_count": 23,
     "metadata": {},
     "output_type": "execute_result"
    }
   ],
   "source": [
    "import duckdb\n",
    "with duckdb.connect() as conn:\n",
    "    conn.execute(\"ATTACH 'datas/duckdb/finance.db' as finance_db (READ_ONLY)\")\n",
    "    # df = conn.sql(\"select * from finance_db.bars_daily\").df()\n",
    "    df = conn.sql(\"select dt, name, open from finance_db.bars_daily\").df()\n",
    "    conn.execute(\"DETACH finance_db\")\n",
    "df"
   ]
  }
 ],
 "metadata": {
  "kernelspec": {
   "display_name": "base",
   "language": "python",
   "name": "python3"
  },
  "language_info": {
   "codemirror_mode": {
    "name": "ipython",
    "version": 3
   },
   "file_extension": ".py",
   "mimetype": "text/x-python",
   "name": "python",
   "nbconvert_exporter": "python",
   "pygments_lexer": "ipython3",
   "version": "3.9.19"
  }
 },
 "nbformat": 4,
 "nbformat_minor": 2
}
