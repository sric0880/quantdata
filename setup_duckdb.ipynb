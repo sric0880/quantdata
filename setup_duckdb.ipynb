{
 "cells": [
  {
   "cell_type": "markdown",
   "metadata": {},
   "source": [
    "\n",
    "## cn_stock/bars/daily"
   ]
  },
  {
   "cell_type": "markdown",
   "metadata": {},
   "source": [
    "### Write\n",
    "\n",
    "```sh\n",
    "duckdb\n",
    ".read finance.duckdb.sql\n",
    "```"
   ]
  },
  {
   "cell_type": "markdown",
   "metadata": {},
   "source": [
    "### Read"
   ]
  },
  {
   "cell_type": "code",
   "execution_count": 11,
   "metadata": {},
   "outputs": [
    {
     "name": "stdout",
     "output_type": "stream",
     "text": [
      "6.99 ms ± 829 µs per loop (mean ± std. dev. of 7 runs, 100 loops each)\n"
     ]
    }
   ],
   "source": [
    "import duckdb\n",
    "\n",
    "with duckdb.connect(\"datas/duckdb/finance.db\", read_only = True) as conn:\n",
    "    # query the table\n",
    "    %timeit conn.table(\"bars_daily\").fetchnumpy()\n",
    "    # %timeit conn.sql(\"select dt, name, open from bars_daily\").fetchnumpy()"
   ]
  },
  {
   "cell_type": "code",
   "execution_count": 4,
   "metadata": {},
   "outputs": [
    {
     "ename": "IOException",
     "evalue": "",
     "output_type": "error",
     "traceback": [
      "\u001b[1;31m---------------------------------------------------------------------------\u001b[0m",
      "\u001b[1;31mIOException\u001b[0m                               Traceback (most recent call last)",
      "\u001b[1;32m~\\AppData\\Local\\Temp/ipykernel_9804/3788739927.py\u001b[0m in \u001b[0;36m<module>\u001b[1;34m\u001b[0m\n\u001b[0;32m      8\u001b[0m \u001b[1;31m# a = duckdb.read_csv(\"//DESKTOP-6NI30V4/bt_data/trade_strategies/a/filter_stocks/results/000001.sh.csv\")\u001b[0m\u001b[1;33m\u001b[0m\u001b[1;33m\u001b[0m\u001b[0m\n\u001b[0;32m      9\u001b[0m \u001b[1;31m# print(a)\u001b[0m\u001b[1;33m\u001b[0m\u001b[1;33m\u001b[0m\u001b[0m\n\u001b[1;32m---> 10\u001b[1;33m \u001b[1;32mwith\u001b[0m \u001b[0mduckdb\u001b[0m\u001b[1;33m.\u001b[0m\u001b[0mconnect\u001b[0m\u001b[1;33m(\u001b[0m\u001b[1;34m'samba://DESKTOP-6NI30V4/bt_data/duckdb/finance.db'\u001b[0m\u001b[1;33m,\u001b[0m \u001b[0mread_only\u001b[0m \u001b[1;33m=\u001b[0m \u001b[1;32mTrue\u001b[0m\u001b[1;33m)\u001b[0m \u001b[1;32mas\u001b[0m \u001b[0mconn\u001b[0m\u001b[1;33m:\u001b[0m\u001b[1;33m\u001b[0m\u001b[1;33m\u001b[0m\u001b[0m\n\u001b[0m\u001b[0;32m     11\u001b[0m \u001b[1;31m# with duckdb.connect(\"datas/duckdb/finance.db\", read_only = True) as conn:\u001b[0m\u001b[1;33m\u001b[0m\u001b[1;33m\u001b[0m\u001b[0m\n\u001b[0;32m     12\u001b[0m     \u001b[1;31m# query the table\u001b[0m\u001b[1;33m\u001b[0m\u001b[1;33m\u001b[0m\u001b[0m\n",
      "\u001b[1;31mIOException\u001b[0m: "
     ]
    }
   ],
   "source": [
    "import duckdb\n",
    "import fsspec\n",
    "from fsspec import filesystem\n",
    "\n",
    "# https://filesystem-spec.readthedocs.io/en/latest/api.html#built-in-implementations\n",
    "# pip install smbprotocol[kerberos]\n",
    "# duckdb.register_filesystem(filesystem('smb', host='DESKTOP-6NI30V4', port=445))\n",
    "# a = duckdb.read_csv(\"//DESKTOP-6NI30V4/bt_data/trade_strategies/a/filter_stocks/results/000001.sh.csv\")\n",
    "# print(a)\n",
    "with duckdb.connect('//DESKTOP-6NI30V4/bt_data/duckdb/finance.db', read_only = True) as conn:\n",
    "# with duckdb.connect(\"datas/duckdb/finance.db\", read_only = True) as conn:\n",
    "    # query the table\n",
    "    # df = con.table(\"bars_daily\").df()\n",
    "    df = conn.sql(\"select dt, name, open from bars_daily\").df()\n",
    "df"
   ]
  }
 ],
 "metadata": {
  "kernelspec": {
   "display_name": "base",
   "language": "python",
   "name": "python3"
  },
  "language_info": {
   "codemirror_mode": {
    "name": "ipython",
    "version": 3
   },
   "file_extension": ".py",
   "mimetype": "text/x-python",
   "name": "python",
   "nbconvert_exporter": "python",
   "pygments_lexer": "ipython3",
   "version": "3.9.7"
  }
 },
 "nbformat": 4,
 "nbformat_minor": 2
}
