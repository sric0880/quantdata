{
 "cells": [
  {
   "cell_type": "markdown",
   "metadata": {},
   "source": [
    "\n",
    "## cn_stock/bars/daily"
   ]
  },
  {
   "cell_type": "markdown",
   "metadata": {},
   "source": [
    "### Overwrite"
   ]
  },
  {
   "cell_type": "code",
   "execution_count": 3,
   "metadata": {},
   "outputs": [
    {
     "name": "stdout",
     "output_type": "stream",
     "text": [
      "┌─────────────────────┬──────────┬───────┬───────┬───────┬───┬───────────────┬─────────┬─────────┬─────────┬─────────┐\n",
      "│         dt          │   name   │ _open │ _high │ _low  │ … │ lb_down_count │  close  │  open   │  high   │   low   │\n",
      "│     timestamp_s     │ varchar  │ float │ float │ float │   │     uint8     │  float  │  float  │  float  │  float  │\n",
      "├─────────────────────┼──────────┼───────┼───────┼───────┼───┼───────────────┼─────────┼─────────┼─────────┼─────────┤\n",
      "│ 1991-01-03 00:00:00 │ 深发展Ａ │  66.4 │  66.4 │  66.4 │ … │             0 │ 7.07077 │ 7.07077 │ 7.07077 │ 7.07077 │\n",
      "│ 1991-01-04 00:00:00 │ 深发展Ａ │ 66.07 │ 66.07 │ 66.07 │ … │             0 │ 7.03562 │ 7.03562 │ 7.03562 │ 7.03562 │\n",
      "│ 1991-01-07 00:00:00 │ 深发展Ａ │ 66.42 │ 66.42 │ 66.42 │ … │             0 │  7.0729 │  7.0729 │  7.0729 │  7.0729 │\n",
      "│ 1991-01-09 00:00:00 │ 深发展Ａ │ 65.76 │ 65.76 │ 65.76 │ … │             0 │ 7.00261 │ 7.00261 │ 7.00261 │ 7.00261 │\n",
      "│ 1991-01-10 00:00:00 │ 深发展Ａ │ 65.43 │ 65.43 │ 65.43 │ … │             0 │ 6.96747 │ 6.96747 │ 6.96747 │ 6.96747 │\n",
      "│ 1991-01-11 00:00:00 │ 深发展Ａ │  65.1 │  65.1 │  65.1 │ … │             0 │ 6.93233 │ 6.93233 │ 6.93233 │ 6.93233 │\n",
      "│ 1991-01-14 00:00:00 │ 深发展Ａ │ 64.45 │ 64.45 │ 64.45 │ … │             0 │ 6.86311 │ 6.86311 │ 6.86311 │ 6.86311 │\n",
      "│ 1991-01-15 00:00:00 │ 深发展Ａ │ 64.13 │ 64.13 │ 64.13 │ … │             0 │ 6.82904 │ 6.82904 │ 6.82904 │ 6.82904 │\n",
      "│ 1991-01-16 00:00:00 │ 深发展Ａ │ 63.81 │ 63.81 │ 63.81 │ … │             0 │ 6.79496 │ 6.79496 │ 6.79496 │ 6.79496 │\n",
      "│ 1991-01-17 00:00:00 │ 深发展Ａ │ 63.49 │ 63.49 │ 63.49 │ … │             0 │ 6.76089 │ 6.76089 │ 6.76089 │ 6.76089 │\n",
      "│          ·          │    ·     │   ·   │    ·  │   ·   │ · │             · │     ·   │     ·   │      ·  │     ·   │\n",
      "│          ·          │    ·     │   ·   │    ·  │   ·   │ · │             · │     ·   │     ·   │      ·  │     ·   │\n",
      "│          ·          │    ·     │   ·   │    ·  │   ·   │ · │             · │     ·   │     ·   │      ·  │     ·   │\n",
      "│ 2024-08-19 00:00:00 │ 平安银行 │ 10.13 │  10.3 │ 10.12 │ … │             0 │   10.29 │   10.13 │    10.3 │   10.12 │\n",
      "│ 2024-08-20 00:00:00 │ 平安银行 │ 10.32 │ 10.43 │ 10.28 │ … │             0 │   10.34 │   10.32 │   10.43 │   10.28 │\n",
      "│ 2024-08-21 00:00:00 │ 平安银行 │  10.3 │ 10.38 │ 10.21 │ … │             0 │   10.35 │    10.3 │   10.38 │   10.21 │\n",
      "│ 2024-08-22 00:00:00 │ 平安银行 │ 10.34 │ 10.45 │ 10.32 │ … │             0 │   10.38 │   10.34 │   10.45 │   10.32 │\n",
      "│ 2024-08-23 00:00:00 │ 平安银行 │ 10.39 │  10.5 │ 10.32 │ … │             0 │   10.47 │   10.39 │    10.5 │   10.32 │\n",
      "│ 2024-08-26 00:00:00 │ 平安银行 │  10.5 │ 10.55 │ 10.42 │ … │             0 │   10.49 │    10.5 │   10.55 │   10.42 │\n",
      "│ 2024-08-27 00:00:00 │ 平安银行 │ 10.47 │ 10.52 │ 10.37 │ … │             0 │   10.43 │   10.47 │   10.52 │   10.37 │\n",
      "│ 2024-08-28 00:00:00 │ 平安银行 │ 10.41 │ 10.43 │ 10.28 │ … │             0 │   10.33 │   10.41 │   10.43 │   10.28 │\n",
      "│ 2024-08-29 00:00:00 │ 平安银行 │ 10.31 │ 10.38 │ 10.11 │ … │             0 │   10.13 │   10.31 │   10.38 │   10.11 │\n",
      "│ 2024-08-30 00:00:00 │ 平安银行 │ 10.11 │ 10.26 │ 10.11 │ … │             0 │   10.16 │   10.11 │   10.26 │   10.11 │\n",
      "├─────────────────────┴──────────┴───────┴───────┴───────┴───┴───────────────┴─────────┴─────────┴─────────┴─────────┤\n",
      "│ 7990 rows (20 shown)                                                                         48 columns (10 shown) │\n",
      "└────────────────────────────────────────────────────────────────────────────────────────────────────────────────────┘\n",
      "\n"
     ]
    }
   ],
   "source": [
    "import duckdb\n",
    "\n",
    "with duckdb.connect(\"datas/duckdb/test_finance.db\") as conn:\n",
    "    with open(\"finance.duckdb.sql\") as f:\n",
    "        # conn.execute(\"drop table bars_daily_000001_SZ;\")\n",
    "        sql = f.read().format(tablename='000001_SZ', csv_path='datasources/000001.SZ')\n",
    "        conn.execute(sql)\n",
    "    conn.table('bars_daily_000001_SZ').show()"
   ]
  },
  {
   "cell_type": "markdown",
   "metadata": {},
   "source": [
    "### Write"
   ]
  },
  {
   "cell_type": "code",
   "execution_count": 4,
   "metadata": {},
   "outputs": [],
   "source": [
    "import duckdb\n",
    "\n",
    "with duckdb.connect(\"datas/duckdb/test_finance.db\") as conn:\n",
    "    insert_sql = f\"INSERT INTO bars_daily_000001_SZ SELECT dt,name,_open,_high,_low,_close,volume,amount,preclose,net_profit_ttm,cashflow_ttm,equity,asset,debt,debttoasset,net_profit_q,pe_ttm,pb,mkt_cap,mkt_cap_ashare,vip_buy_amt,vip_sell_amt,inst_buy_amt,inst_sell_amt,mid_buy_amt,mid_sell_amt,indi_buy_amt,indi_sell_amt,master_net_flow_in,master2_net_flow_in,vip_net_flow_in,mid_net_flow_in,inst_net_flow_in,indi_net_flow_in,total_sell_amt,total_buy_amt,net_flow_in,turnover,free_shares,total_shares,maxupordown,maxupordown_at_open,lb_up_count,lb_down_count,close,open,high,low FROM 'datasources/data_append.csv' where symbol='000001.SZ';\"\n",
    "    conn.execute(insert_sql)"
   ]
  },
  {
   "cell_type": "markdown",
   "metadata": {},
   "source": [
    "### Delete"
   ]
  },
  {
   "cell_type": "code",
   "execution_count": 5,
   "metadata": {},
   "outputs": [],
   "source": [
    "import duckdb\n",
    "\n",
    "with duckdb.connect(\"datas/duckdb/test_finance.db\") as conn:\n",
    "    # 删除不存在的行不会报错\n",
    "    insert_sql = f\"DELETE FROM bars_daily_000001_SZ WHERE dt = '2024-09-02 00:00:00';\"\n",
    "    conn.execute(insert_sql)"
   ]
  },
  {
   "cell_type": "markdown",
   "metadata": {},
   "source": [
    "### Read"
   ]
  },
  {
   "cell_type": "code",
   "execution_count": 6,
   "metadata": {},
   "outputs": [
    {
     "data": {
      "text/html": [
       "<div>\n",
       "<style scoped>\n",
       "    .dataframe tbody tr th:only-of-type {\n",
       "        vertical-align: middle;\n",
       "    }\n",
       "\n",
       "    .dataframe tbody tr th {\n",
       "        vertical-align: top;\n",
       "    }\n",
       "\n",
       "    .dataframe thead th {\n",
       "        text-align: right;\n",
       "    }\n",
       "</style>\n",
       "<table border=\"1\" class=\"dataframe\">\n",
       "  <thead>\n",
       "    <tr style=\"text-align: right;\">\n",
       "      <th></th>\n",
       "      <th>dt</th>\n",
       "      <th>name</th>\n",
       "      <th>open</th>\n",
       "    </tr>\n",
       "  </thead>\n",
       "  <tbody>\n",
       "    <tr>\n",
       "      <th>0</th>\n",
       "      <td>2024-08-26</td>\n",
       "      <td>平安银行</td>\n",
       "      <td>10.50</td>\n",
       "    </tr>\n",
       "    <tr>\n",
       "      <th>1</th>\n",
       "      <td>2024-08-27</td>\n",
       "      <td>平安银行</td>\n",
       "      <td>10.47</td>\n",
       "    </tr>\n",
       "    <tr>\n",
       "      <th>2</th>\n",
       "      <td>2024-08-28</td>\n",
       "      <td>平安银行</td>\n",
       "      <td>10.41</td>\n",
       "    </tr>\n",
       "    <tr>\n",
       "      <th>3</th>\n",
       "      <td>2024-08-29</td>\n",
       "      <td>平安银行</td>\n",
       "      <td>10.31</td>\n",
       "    </tr>\n",
       "    <tr>\n",
       "      <th>4</th>\n",
       "      <td>2024-08-30</td>\n",
       "      <td>平安银行</td>\n",
       "      <td>10.11</td>\n",
       "    </tr>\n",
       "  </tbody>\n",
       "</table>\n",
       "</div>"
      ],
      "text/plain": [
       "          dt  name   open\n",
       "0 2024-08-26  平安银行  10.50\n",
       "1 2024-08-27  平安银行  10.47\n",
       "2 2024-08-28  平安银行  10.41\n",
       "3 2024-08-29  平安银行  10.31\n",
       "4 2024-08-30  平安银行  10.11"
      ]
     },
     "execution_count": 6,
     "metadata": {},
     "output_type": "execute_result"
    }
   ],
   "source": [
    "import quantdata as qd\n",
    "\n",
    "with qd.duckdb_connect('datas/duckdb/test_finance.db') as conn:\n",
    "    # df = qd.duckdb_get_array(conn, 'bars_daily_000001_SZ').df()\n",
    "    # df = qd.duckdb_get_array(conn, 'bars_daily_000001_SZ', attrs=['dt', 'name', 'open']).df()\n",
    "    # df = qd.duckdb_get_array(conn, 'bars_daily_000001_SZ', attrs=['dt', 'name', 'open'], filter=\"dt>'2024-08-29 00:00:00' and open > 10.08\").df()\n",
    "    # 最后一行(所有列)\n",
    "    # df = qd.duckdb_get_array_last_rows(conn, 'bars_daily_000001_sz').df()\n",
    "    # 最后一行(自定义列)\n",
    "    # df = qd.duckdb_get_array_last_rows(conn, 'bars_daily_000001_SZ', attrs=['dt', 'name', 'open']).df()\n",
    "    # 最后5行\n",
    "    df = qd.duckdb_get_array_last_rows(conn, 'bars_daily_000001_SZ', attrs=['dt', 'name', 'open'], N=5).df()\n",
    "    # df = qd.duckdb_get_array_last_rows(conn, 'bars_daily_000001_SZ', N=1).df()\n",
    "df"
   ]
  },
  {
   "cell_type": "markdown",
   "metadata": {},
   "source": [
    "### Benchmark\n",
    "\n",
    "以下为在大数据(全部5000+只股票的数据，一共5G)测试性能"
   ]
  },
  {
   "cell_type": "code",
   "execution_count": 1,
   "metadata": {},
   "outputs": [
    {
     "data": {
      "application/vnd.jupyter.widget-view+json": {
       "model_id": "8549e41fd1784431a8f0e5ce6b1f151b",
       "version_major": 2,
       "version_minor": 0
      },
      "text/plain": [
       "FloatProgress(value=0.0, layout=Layout(width='auto'), style=ProgressStyle(bar_color='black'))"
      ]
     },
     "metadata": {},
     "output_type": "display_data"
    },
    {
     "name": "stdout",
     "output_type": "stream",
     "text": [
      "5.76 ms ± 118 µs per loop (mean ± std. dev. of 7 runs, 100 loops each)\n",
      "1.23 ms ± 33 µs per loop (mean ± std. dev. of 7 runs, 1000 loops each)\n",
      "669 µs ± 8.59 µs per loop (mean ± std. dev. of 7 runs, 1000 loops each)\n",
      "4.23 ms ± 138 µs per loop (mean ± std. dev. of 7 runs, 100 loops each)\n",
      "983 µs ± 43.7 µs per loop (mean ± std. dev. of 7 runs, 1000 loops each)\n",
      "967 µs ± 43.4 µs per loop (mean ± std. dev. of 7 runs, 1000 loops each)\n",
      "4.46 ms ± 188 µs per loop (mean ± std. dev. of 7 runs, 100 loops each)\n"
     ]
    }
   ],
   "source": [
    "import quantdata as qd\n",
    "\n",
    "with qd.duckdb_connect('datas/duckdb/finance.db') as conn:\n",
    "    %timeit qd.duckdb_get_array(conn, 'bars_daily_000001_SZ').fetchnumpy()\n",
    "    %timeit  qd.duckdb_get_array(conn, 'bars_daily_000002_SZ', attrs=['dt', 'name', 'open']).fetchnumpy()\n",
    "    %timeit  qd.duckdb_get_array(conn, 'bars_daily_000003_SZ', attrs=['dt', 'name', 'open'], filter=\"dt>'2024-08-29 00:00:00' and open > 10.08\").fetchnumpy()\n",
    "    # # 最后一行(所有列)\n",
    "    %timeit  qd.duckdb_get_array_last_rows(conn, 'bars_daily_000005_SZ').fetchnumpy()\n",
    "    # # 最后一行(自定义列)\n",
    "    %timeit  qd.duckdb_get_array_last_rows(conn, 'bars_daily_000008_SZ', attrs=['dt', 'name', 'open']).fetchnumpy()\n",
    "    # # 最后5行\n",
    "    %timeit qd.duckdb_get_array_last_rows(conn, 'bars_daily_000010_SZ', attrs=['dt', 'name', 'open'], N=5).fetchnumpy()\n",
    "    %timeit  qd.duckdb_get_array_last_rows(conn, 'bars_daily_000001_SZ', N=5).fetchnumpy()"
   ]
  },
  {
   "cell_type": "code",
   "execution_count": 1,
   "metadata": {},
   "outputs": [
    {
     "data": {
      "application/vnd.jupyter.widget-view+json": {
       "model_id": "a93b61a42962402ea9bb2088e2bfa21e",
       "version_major": 2,
       "version_minor": 0
      },
      "text/plain": [
       "FloatProgress(value=0.0, layout=Layout(width='auto'), style=ProgressStyle(bar_color='black'))"
      ]
     },
     "metadata": {},
     "output_type": "display_data"
    }
   ],
   "source": [
    "import duckdb\n",
    "\n",
    "def duckdb_connect(uri):\n",
    "    # return duckdb.execute(f\"ATTACH '{uri}' as A (READ_ONLY);USE A;\")\n",
    "    conn = duckdb.connect(config = {'threads': 12})\n",
    "    # conn = duckdb.connect(config = {'threads': 12, 'enable_progress_bar':False, 'enable_progress_bar_print': False})\n",
    "    try:\n",
    "        conn.execute(f\"ATTACH '{uri}' as A (READ_ONLY);USE A;\")\n",
    "        return conn\n",
    "    except:\n",
    "        conn.close()\n",
    "        raise\n",
    "\n",
    "def duckdb_connect2(uri):\n",
    "    conn = duckdb.connect(uri, read_only=True)\n",
    "    try:\n",
    "        # conn.execute(f\"ATTACH '{uri}' as A (READ_ONLY);USE A;\")\n",
    "        return conn\n",
    "    except:\n",
    "        conn.close()\n",
    "        raise\n",
    "\n",
    "\n",
    "def duckdb_close(conn):\n",
    "    conn.close()\n",
    "\n",
    "\n",
    "def test_conn():\n",
    "    # conn = duckdb_connect('datas/duckdb/finance.db')\n",
    "    conn = duckdb_connect('//DESKTOP-6NI30V4/bt_data/duckdb/finance.db')\n",
    "    duckdb_close(conn)\n",
    "\n",
    "test_conn()"
   ]
  },
  {
   "cell_type": "markdown",
   "metadata": {},
   "source": []
  }
 ],
 "metadata": {
  "kernelspec": {
   "display_name": "base",
   "language": "python",
   "name": "python3"
  },
  "language_info": {
   "codemirror_mode": {
    "name": "ipython",
    "version": 3
   },
   "file_extension": ".py",
   "mimetype": "text/x-python",
   "name": "python",
   "nbconvert_exporter": "python",
   "pygments_lexer": "ipython3",
   "version": "3.9.19"
  }
 },
 "nbformat": 4,
 "nbformat_minor": 2
}
