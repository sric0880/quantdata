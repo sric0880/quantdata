{
 "cells": [
  {
   "cell_type": "code",
   "execution_count": null,
   "metadata": {},
   "outputs": [],
   "source": [
    "import tiledb\n",
    "config = tiledb.Config()\n",
    "\n",
    "# Set configuration parameters\n",
    "config[\"vfs.s3.scheme\"] = \"http\"\n",
    "config[\"vfs.s3.region\"] = \"\" # timezone\n",
    "config[\"vfs.s3.endpoint_override\"] = \"localhost:9000\"\n",
    "config[\"vfs.s3.use_virtual_addressing\"] = \"false\"\n",
    "config[\"vfs.s3.aws_access_key_id\"] = \"5AZvbYF8JH59jeZbOiFF\"\n",
    "config[\"vfs.s3.aws_secret_access_key\"] = \"mOImsL4LuPuNg7yz43JXnTOi5uieK5NBEKeRj3QK\"\n",
    "\n",
    "# Create contex object\n",
    "ctx = tiledb.Ctx(config)\n",
    "\n",
    "minio_bucket = \"s3://finance-tiledb\"\n",
    "cn_stock_group_name = f\"{minio_bucket}/cn_stock\""
   ]
  },
  {
   "cell_type": "code",
   "execution_count": 1,
   "metadata": {},
   "outputs": [],
   "source": []
  },
  {
   "cell_type": "markdown",
   "metadata": {},
   "source": []
  }
 ],
 "metadata": {
  "kernelspec": {
   "display_name": "base",
   "language": "python",
   "name": "python3"
  },
  "language_info": {
   "codemirror_mode": {
    "name": "ipython",
    "version": 3
   },
   "file_extension": ".py",
   "mimetype": "text/x-python",
   "name": "python",
   "nbconvert_exporter": "python",
   "pygments_lexer": "ipython3",
   "version": "3.9.18"
  }
 },
 "nbformat": 4,
 "nbformat_minor": 2
}
