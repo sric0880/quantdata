{
 "cells": [
  {
   "cell_type": "markdown",
   "metadata": {},
   "source": [
    "# Minio配置\n",
    "1. 修改docker-compose.yaml中的用户名和密码，控制台输入 `docker-compose up -d` 运行后台minio.\n",
    "2. 登录`http://localhost:9001/`\n",
    "3. 创建bucket `finance-tiledb`\n",
    "4. 创建access keys，并复制粘贴在以下代码\n",
    "5. 依次执行以下代码初始化数据库"
   ]
  },
  {
   "cell_type": "code",
   "execution_count": 1,
   "metadata": {},
   "outputs": [
    {
     "name": "stdout",
     "output_type": "stream",
     "text": [
      "tiledb python version: 0.31.1\n",
      "libtiledb core version: (2, 25, 0)\n"
     ]
    }
   ],
   "source": [
    "import tiledb\n",
    "\n",
    "print(\"tiledb python version:\", tiledb.__version__)\n",
    "print(\"libtiledb core version:\", tiledb.libtiledb.version())"
   ]
  },
  {
   "cell_type": "code",
   "execution_count": 2,
   "metadata": {},
   "outputs": [],
   "source": [
    "config = tiledb.Config()\n",
    "\n",
    "# Set configuration parameters\n",
    "config[\"vfs.s3.scheme\"] = \"http\"\n",
    "config[\"vfs.s3.region\"] = \"\" # timezone\n",
    "config[\"vfs.s3.endpoint_override\"] = \"localhost:9000\"\n",
    "config[\"vfs.s3.use_virtual_addressing\"] = \"false\"\n",
    "# TODO 换成自己的ACCESS_KEY\n",
    "config[\"vfs.s3.aws_access_key_id\"] = \"5CUUwM6cxHcg6MYvme4O\" # 5AZvbYF8JH59jeZbOiFF\n",
    "# TODO 换成自己的SECRET\n",
    "config[\"vfs.s3.aws_secret_access_key\"] = \"mlNQJ9weN93PdSKYbzwSNycIX4RiY9urNgOiNB9H\" # mOImsL4LuPuNg7yz43JXnTOi5uieK5NBEKeRj3QK\n",
    "\n",
    "# Create contex object\n",
    "ctx = tiledb.Ctx(config)\n",
    "\n",
    "minio_bucket = \"s3://finance-tiledb\""
   ]
  },
  {
   "cell_type": "markdown",
   "metadata": {},
   "source": [
    "# 中国A股市场"
   ]
  },
  {
   "cell_type": "code",
   "execution_count": 3,
   "metadata": {},
   "outputs": [
    {
     "name": "stdout",
     "output_type": "stream",
     "text": [
      "S3: Error while listing with prefix 's3://finance-tiledb/cn_stock/__group/' and delimiter '/'[Error Type: 23] [HTTP Response Code: 403] [Exception: InvalidAccessKeyId] [Headers: 'accept-ranges' = 'bytes' 'content-length' = '360' 'content-type' = 'application/xml' 'date' = 'Mon, 19 Aug 2024 01:03:38 GMT' 'server' = 'MinIO' 'strict-transport-security' = 'max-age=31536000; includeSubDomains' 'vary' = 'Origin' 'x-amz-id-2' = 'dd9025bab4ad464b049177c95eb6ebf374d3b3fd1af9251148b658df7ac2e3e8' 'x-amz-request-id' = '17ECFB9F1D1998DC' 'x-content-type-options' = 'nosniff' 'x-ratelimit-limit' = '1189' 'x-ratelimit-remaining' = '1189' 'x-xss-protection' = '1; mode=block'] : The Access Key Id you provided does not exist in our records.\n"
     ]
    }
   ],
   "source": [
    "# delete group\n",
    "# my_group = f\"{minio_bucket}/my_group\"\n",
    "# mygrp = tiledb.Group(my_group, \"m\", ctx=ctx)\n",
    "# mygrp.delete()\n",
    "\n",
    "cn_stock_group_name = f\"{minio_bucket}/cn_stock\"\n",
    "try:\n",
    "    tiledb.group_create(cn_stock_group_name, ctx=ctx)\n",
    "except Exception as e:\n",
    "    print(e)"
   ]
  },
  {
   "cell_type": "markdown",
   "metadata": {},
   "source": [
    "## 交易日历 trade_cal\n",
    "\n",
    "|字段名|说明|类型|\n",
    "|--|--|--|\n",
    "|dt [index] |日期|datetime64[s]|\n",
    "|is_open|是否交易：0-不交易 1-交易|int8|"
   ]
  },
  {
   "cell_type": "code",
   "execution_count": 32,
   "metadata": {},
   "outputs": [
    {
     "name": "stdout",
     "output_type": "stream",
     "text": [
      "              dt  is_open\n",
      "0     1990-12-19        1\n",
      "1     1990-12-20        1\n",
      "2     1990-12-21        1\n",
      "3     1990-12-22        0\n",
      "4     1990-12-23        0\n",
      "...          ...      ...\n",
      "12427 2024-12-27        1\n",
      "12428 2024-12-28        0\n",
      "12429 2024-12-29        0\n",
      "12430 2024-12-30        1\n",
      "12431 2024-12-31        1\n",
      "\n",
      "[12432 rows x 2 columns]\n",
      "<class 'pandas.core.frame.DataFrame'>\n",
      "RangeIndex: 12432 entries, 0 to 12431\n",
      "Data columns (total 2 columns):\n",
      " #   Column   Non-Null Count  Dtype         \n",
      "---  ------   --------------  -----         \n",
      " 0   dt       12432 non-null  datetime64[ns]\n",
      " 1   is_open  12432 non-null  int64         \n",
      "dtypes: datetime64[ns](1), int64(1)\n",
      "memory usage: 194.4 KB\n",
      "None\n",
      "ArraySchema(\n",
      "  domain=Domain(*[\n",
      "    Dim(name='dt', domain=(numpy.datetime64('1990-12-19'), numpy.datetime64('2024-12-31')), tile=numpy.timedelta64(12432,'D'), dtype='datetime64[D]'),\n",
      "  ]),\n",
      "  attrs=[\n",
      "    Attr(name='is_open', dtype='int8', var=False, nullable=False, enum_label=None),\n",
      "  ],\n",
      "  cell_order='col-major',\n",
      "  tile_order='col-major',\n",
      "  sparse=False,\n",
      ")\n",
      "\n",
      "[1 1 1 ... 0 1 1]\n",
      "12432\n"
     ]
    }
   ],
   "source": [
    "import numpy as np\n",
    "import pandas as pd\n",
    "array_trade_cal = f\"{cn_stock_group_name}/trade_cal\"\n",
    "\n",
    "df = pd.read_csv(\"datasources/trade_cal.csv\", parse_dates=['dt'], date_format='%Y%m%d')\n",
    "# print(df)\n",
    "# print(df.info())\n",
    "\n",
    "# delete array_trade_cal\n",
    "try:\n",
    "    tiledb.Array.delete_array(array_trade_cal, ctx=ctx)\n",
    "except:\n",
    "    pass\n",
    "\n",
    "d1 = tiledb.Dim(name=\"dt\", domain=(df['dt'].iloc[0].to_datetime64().astype(\"datetime64[D]\"), df['dt'].iloc[-1].to_datetime64().astype(\"datetime64[D]\")), dtype=\"datetime64[D]\")\n",
    "dom1 = tiledb.Domain(d1)\n",
    "a = tiledb.Attr(name=\"is_open\", dtype=np.int8)\n",
    "schema = tiledb.ArraySchema(domain=dom1, sparse=False, attrs=[a], cell_order='col-major', tile_order='col-major')\n",
    "schema.check()\n",
    "tiledb.Array.create(array_trade_cal, schema, ctx=ctx)\n",
    "\n",
    "with tiledb.open(array_trade_cal, mode='w', ctx=ctx) as A:\n",
    "    A[:] = df['is_open'].to_numpy()\n",
    "schema"
   ]
  },
  {
   "cell_type": "markdown",
   "metadata": {},
   "source": [
    "## 证券基本信息 basic_info_stocks\n",
    "\n",
    "|字段名|说明|类型|\n",
    "|--|--|--|\n",
    "|symbol|股票代码|string|\n",
    "|name|股票名称|string|\n",
    "|area|地域|string|\n",
    "|industry|所属行业|string|\n",
    "|fullname|股票全称|string|\n",
    "|enname|英文全称|string|\n",
    "|cnspell|拼音缩写|string|\n",
    "|market|市场类型（主板/创业板/科创板/CDR）|string|\n",
    "|exchange|交易所代码（SSE/SZSE/BSE）|string|\n",
    "|curr_type|交易货币：CNY|string|\n",
    "|list_date|上市日期|datetime64[D]|\n",
    "|delist_date|退市日期|datetime64[D]|\n",
    "|status|上市状态，其中L上市 D退市 P暂停上市|string|\n",
    "|is_hs|是否沪深港通标的，N否 H沪股通 S深股通|string|"
   ]
  },
  {
   "cell_type": "code",
   "execution_count": 6,
   "metadata": {},
   "outputs": [
    {
     "name": "stdout",
     "output_type": "stream",
     "text": [
      "        symbol     name area industry          fullname  \\\n",
      "0    000001.SZ     平安银行   深圳       银行        平安银行股份有限公司   \n",
      "1    000002.SZ      万科A   深圳     全国地产        万科企业股份有限公司   \n",
      "2    000004.SZ     国华网安   深圳     软件服务    深圳国华网安科技股份有限公司   \n",
      "3    000006.SZ     深振业A   深圳     区域地产   深圳市振业(集团)股份有限公司   \n",
      "4    000007.SZ      全新好   深圳     其他商业      深圳市全新好股份有限公司   \n",
      "..         ...      ...  ...      ...               ...   \n",
      "270  688555.SH   退泽达(退)                泽达易盛(天津)科技股份有限公司   \n",
      "271  832317.BJ  观典防务(退)                    观典防务技术股份有限公司   \n",
      "272  833874.BJ  泰祥股份(退)                   十堰市泰祥实业股份有限公司   \n",
      "273  833994.BJ  翰博高新(退)                翰博高新材料(合肥)股份有限公司   \n",
      "274  T00018.SH  上港集箱(退)                    上海港集装箱股份有限公司   \n",
      "\n",
      "                                                enname cnspell market  \\\n",
      "0                               Ping An Bank Co., Ltd.    payh     主板   \n",
      "1                                 China Vanke Co.,Ltd.     wka     主板   \n",
      "2    Shenzhen Guohua Network Security Technology Co...    ghwa     主板   \n",
      "3                     Shenzhen Zhenye(Group) Co., Ltd.    szya     主板   \n",
      "4                         Shenzhen Quanxinhao Co,.Ltd.     qxh     主板   \n",
      "..                                                 ...     ...    ...   \n",
      "270           Essence Information Technology Co., Ltd.    tszd    科创板   \n",
      "271               Guandian Defense Technology Co.,Ltd.    gdfw    北交所   \n",
      "272                 Shiyan Taixiang Industry Co., Ltd.    txgf    北交所   \n",
      "273      Highbroad Advanced Material (Hefei) Co., Ltd.    hbgx    北交所   \n",
      "274                  Shanghai Port Container Co., Ltd.    sgjx          \n",
      "\n",
      "    exchange curr_type status  list_date delist_date is_hs  \n",
      "0       SZSE       CNY      L 1991-04-03         NaT     S  \n",
      "1       SZSE       CNY      L 1991-01-29         NaT     S  \n",
      "2       SZSE       CNY      L 1991-01-14         NaT     N  \n",
      "3       SZSE       CNY      L 1992-04-27         NaT     S  \n",
      "4       SZSE       CNY      L 1992-04-13         NaT     N  \n",
      "..       ...       ...    ...        ...         ...   ...  \n",
      "270      SSE       CNY      D 2020-06-23  2023-07-07     N  \n",
      "271      BSE       CNY      D 2020-07-27  2022-04-26     N  \n",
      "272      BSE       CNY      D 2020-07-27  2022-07-18     N  \n",
      "273      BSE       CNY      D 2020-07-27  2022-07-25     N  \n",
      "274      SSE       CNY      D 2000-07-19  2006-10-20     N  \n",
      "\n",
      "[5626 rows x 14 columns]\n",
      "<class 'pandas.core.frame.DataFrame'>\n",
      "Index: 5626 entries, 0 to 274\n",
      "Data columns (total 14 columns):\n",
      " #   Column       Non-Null Count  Dtype         \n",
      "---  ------       --------------  -----         \n",
      " 0   symbol       5626 non-null   object        \n",
      " 1   name         5626 non-null   object        \n",
      " 2   area         5626 non-null   object        \n",
      " 3   industry     5626 non-null   object        \n",
      " 4   fullname     5626 non-null   object        \n",
      " 5   enname       5626 non-null   object        \n",
      " 6   cnspell      5626 non-null   object        \n",
      " 7   market       5626 non-null   object        \n",
      " 8   exchange     5626 non-null   object        \n",
      " 9   curr_type    5626 non-null   object        \n",
      " 10  status       5626 non-null   object        \n",
      " 11  list_date    5626 non-null   datetime64[ns]\n",
      " 12  delist_date  275 non-null    datetime64[ns]\n",
      " 13  is_hs        5626 non-null   object        \n",
      "dtypes: datetime64[ns](2), object(12)\n",
      "memory usage: 659.3+ KB\n",
      "None\n",
      "ArraySchema(\n",
      "  domain=Domain(*[\n",
      "    Dim(name='__dim_0', domain=(0, 5625), tile=5626, dtype='uint32'),\n",
      "  ]),\n",
      "  attrs=[\n",
      "    Attr(name='symbol', dtype='<U0', var=True, nullable=False, enum_label=None),\n",
      "    Attr(name='name', dtype='<U0', var=True, nullable=False, enum_label=None),\n",
      "    Attr(name='area', dtype='<U0', var=True, nullable=False, enum_label=None),\n",
      "    Attr(name='industry', dtype='<U0', var=True, nullable=False, enum_label=None),\n",
      "    Attr(name='fullname', dtype='<U0', var=True, nullable=False, enum_label=None),\n",
      "    Attr(name='enname', dtype='<U0', var=True, nullable=False, enum_label=None),\n",
      "    Attr(name='cnspell', dtype='<U0', var=True, nullable=False, enum_label=None),\n",
      "    Attr(name='market', dtype='<U0', var=True, nullable=False, enum_label=None),\n",
      "    Attr(name='exchange', dtype='<U0', var=True, nullable=False, enum_label=None),\n",
      "    Attr(name='curr_type', dtype='<U0', var=True, nullable=False, enum_label=None),\n",
      "    Attr(name='list_date', dtype='datetime64[D]', var=False, nullable=False, enum_label=None),\n",
      "    Attr(name='delist_date', dtype='datetime64[D]', var=False, nullable=True, enum_label=None),\n",
      "    Attr(name='status', dtype='<U0', var=True, nullable=False, enum_label=None),\n",
      "    Attr(name='is_hs', dtype='<U0', var=True, nullable=False, enum_label=None),\n",
      "  ],\n",
      "  cell_order='col-major',\n",
      "  tile_order='col-major',\n",
      "  sparse=False,\n",
      ")\n",
      "\n",
      "OrderedDict([('symbol', array(['000001.SZ', '000002.SZ', '000004.SZ', ..., '833874.BJ',\n",
      "       '833994.BJ', 'T00018.SH'], dtype=object)), ('name', array(['平安银行', '万科A', '国华网安', ..., '泰祥股份(退)', '翰博高新(退)', '上港集箱(退)'],\n",
      "      dtype=object)), ('area', array(['深圳', '深圳', '深圳', ..., '', '', ''], dtype=object)), ('industry', array(['银行', '全国地产', '软件服务', ..., '', '', ''], dtype=object)), ('fullname', array(['平安银行股份有限公司', '万科企业股份有限公司', '深圳国华网安科技股份有限公司', ..., '十堰市泰祥实业股份有限公司',\n",
      "       '翰博高新材料(合肥)股份有限公司', '上海港集装箱股份有限公司'], dtype=object)), ('enname', array(['Ping An Bank Co., Ltd.', 'China Vanke Co.,Ltd.',\n",
      "       'Shenzhen Guohua Network Security Technology Co., Ltd.', ...,\n",
      "       'Shiyan Taixiang Industry Co., Ltd.',\n",
      "       'Highbroad Advanced Material (Hefei) Co., Ltd.',\n",
      "       'Shanghai Port Container Co., Ltd.'], dtype=object)), ('cnspell', array(['payh', 'wka', 'ghwa', ..., 'txgf', 'hbgx', 'sgjx'], dtype=object)), ('market', array(['主板', '主板', '主板', ..., '北交所', '北交所', ''], dtype=object)), ('exchange', array(['SZSE', 'SZSE', 'SZSE', ..., 'BSE', 'BSE', 'SSE'], dtype=object)), ('curr_type', array(['CNY', 'CNY', 'CNY', ..., 'CNY', 'CNY', 'CNY'], dtype=object)), ('list_date', array(['1991-04-03', '1991-01-29', '1991-01-14', ..., '2020-07-27',\n",
      "       '2020-07-27', '2000-07-19'], dtype='datetime64[D]')), ('delist_date', masked_array(data=[--, --, --, ..., datetime.date(2022, 7, 18),\n",
      "                   datetime.date(2022, 7, 25),\n",
      "                   datetime.date(2006, 10, 20)],\n",
      "             mask=[ True,  True,  True, ..., False, False, False],\n",
      "       fill_value=numpy.datetime64('NaT'),\n",
      "            dtype='datetime64[D]')), ('status', array(['L', 'L', 'L', ..., 'D', 'D', 'D'], dtype=object)), ('is_hs', array(['S', 'S', 'N', ..., 'N', 'N', 'N'], dtype=object))])\n"
     ]
    }
   ],
   "source": [
    "import numpy as np\n",
    "import pandas as pd\n",
    "array_basic_info_stocks = f\"{cn_stock_group_name}/basic_info_stocks\"\n",
    "\n",
    "df = pd.read_csv(\"datasources/basic_info_stocks.csv\", parse_dates=['list_date', 'delist_date'], date_format='%Y%m%d', index_col=0)\n",
    "df = df.drop(columns=['symbol'])\n",
    "df = df.rename(columns={'ts_code':'symbol', 'list_status':'status'})\n",
    "df = df.fillna('')\n",
    "# print(df)\n",
    "# print(df.info())\n",
    "\n",
    "# delete array_basic_info_stocks\n",
    "try:\n",
    "    tiledb.Array.delete_array(array_basic_info_stocks, ctx=ctx)\n",
    "except:\n",
    "    pass\n",
    "\n",
    "# TODO add zip filter or category type\n",
    "attrs = [\n",
    "    tiledb.Attr(name=\"symbol\", dtype=np.dtype('U')),\n",
    "    tiledb.Attr(name=\"name\", dtype=np.dtype('U')),\n",
    "    tiledb.Attr(name=\"area\", dtype=np.dtype('U')),\n",
    "    tiledb.Attr(name=\"industry\", dtype=np.dtype('U')),\n",
    "    tiledb.Attr(name=\"fullname\", dtype=np.dtype('U')),\n",
    "    tiledb.Attr(name=\"enname\", dtype=np.dtype('U')),\n",
    "    tiledb.Attr(name=\"cnspell\", dtype=np.dtype('U')),\n",
    "    tiledb.Attr(name=\"market\", dtype=np.dtype('U')),\n",
    "    tiledb.Attr(name=\"exchange\", dtype=np.dtype('U')),\n",
    "    tiledb.Attr(name=\"curr_type\", dtype=np.dtype('U')),\n",
    "    tiledb.Attr(name=\"list_date\", dtype=\"datetime64[D]\"),\n",
    "    tiledb.Attr(name=\"delist_date\", dtype=\"datetime64[D]\", nullable=True),\n",
    "    tiledb.Attr(name=\"status\", dtype=np.dtype('U')),\n",
    "    tiledb.Attr(name=\"is_hs\", dtype=np.dtype('U')),\n",
    "]\n",
    "d1 = tiledb.Dim(domain=(0,len(df)-1), dtype=np.uint32)\n",
    "dom1 = tiledb.Domain(d1)\n",
    "schema = tiledb.ArraySchema(domain=dom1, sparse=False, attrs=attrs, cell_order='col-major', tile_order='col-major')\n",
    "schema.check()\n",
    "tiledb.Array.create(array_basic_info_stocks, schema, ctx=ctx)\n",
    "\n",
    "with tiledb.open(array_basic_info_stocks, mode='w', ctx=ctx) as A:\n",
    "    A[:] = df.to_dict('series')\n",
    "schema"
   ]
  },
  {
   "cell_type": "markdown",
   "metadata": {},
   "source": [
    "\n",
    "## 日线详情数据 bars/daily\n",
    "\n",
    "|字段名|说明|类型|\n",
    "|--|--|--|\n",
    "|dt [index]|交易日期|datetime64[s]|\n",
    "|name|股票名称|string|\n",
    "|open|开盘价(前复权)|float32|\n",
    "|high|最高价(前复权)|float32|\n",
    "|low|最低价(前复权)|float32|\n",
    "|close|收盘价(前复权)|float32|\n",
    "|_open|开盘价|float32|\n",
    "|_high|最高价|float32|\n",
    "|_low|最低价|float32|\n",
    "|_close|收盘价|float32|\n",
    "|preclose|前收盘价，若当天发生除权，前收盘价为上个交易日复权之后的收盘价|float32|\n",
    "|volume|成交量（股）|uint32|\n",
    "|amount|成交额（元）|uint64|\n",
    "|net_profit_ttm|净利润TTM(不含少数股东损益)|float64|\n",
    "|cashflow_ttm|现金流TTM, 经营活动产生的现金流量净额|float64|\n",
    "|equity|净资产|float64|\n",
    "|asset|总资产|float64|\n",
    "|debt|总负债|float64|\n",
    "|debttoasset|资产负债率|float32|\n",
    "|net_profit_q|净利润(当季)|float64|\n",
    "|pe_ttm|滚动市盈率|float32|\n",
    "|pb|市净率|float32|\n",
    "|mkt_cap|总市值(元)|float64|\n",
    "|mkt_cap_ashare|流通市值(元)|float64|\n",
    "|vip_buy_amt|大户资金买入额(万元)|float32|\n",
    "|vip_sell_amt|大户资金卖出额(万元)|float32|\n",
    "|inst_buy_amt|机构资金买入额(万元)|float32|\n",
    "|inst_sell_amt|机构资金卖出额(万元)|float32|\n",
    "|mid_buy_amt|中户资金买入额(万元)|float32|\n",
    "|mid_sell_amt|中户资金卖出额(万元)|float32|\n",
    "|indi_buy_amt|散户资金买入额(万元)|float32|\n",
    "|indi_sell_amt|散户资金卖出额(万元)|float32|\n",
    "|master_net_flow_in|主力(机构和大户)净买入(万元)|float32|\n",
    "|master2_net_flow_in|主力2(机构、大户和中户)净买入(万元)|float32|\n",
    "|vip_net_flow_in|大户净流入(万元)|float32|\n",
    "|mid_net_flow_in|中户净流入(万元)|float32|\n",
    "|inst_net_flow_in|机构净流入(万元)|float32|\n",
    "|indi_net_flow_in|散户净流入(万元)|float32|\n",
    "|total_sell_amt|流出资金总额(万元)|float32|\n",
    "|total_buy_amt|流入资金总额(万元)|float32|\n",
    "|net_flow_in|资金净流入(万元)|float32|\n",
    "|turnover|换手率|float32|\n",
    "|free_shares|流通股本|uint64|\n",
    "|total_shares|总股本|uint64|\n",
    "|maxupordown|标记收盘涨停或跌停状态,1-涨停,2-一字板涨停；-1-跌停，-2-一字板跌停；0-未涨跌停|uint8|\n",
    "|maxupordown_at_open|标记开盘涨停或跌停状态，状态码同上|uint8|\n",
    "|lb_up_count|连板涨停次数|uint8|\n",
    "|lb_down_count|连板跌停次数|uint8|\n"
   ]
  },
  {
   "cell_type": "code",
   "execution_count": 48,
   "metadata": {},
   "outputs": [
    {
     "data": {
      "text/html": [
       "<table><tr><th>Domain</th></tr><tr><td><table><tr><th>Name</th><th>Domain</th><th>Tile</th><th>Data Type</th><th>Is Var-length</th><th>Filters</th></tr><tr><td>_dt</td><td>(0, 25000)</td><td>250</td><td>uint32</td><td>False</td><td>-</td></tr><tr><td>_symbol</td><td>(0, 20000)</td><td>1</td><td>uint32</td><td>False</td><td>-</td></tr></table></td></tr><tr><th>Attributes</th></tr><tr><td><table><tr><th>Name</th><th>Data Type</th><th>Is Var-Len</th><th>Is Nullable</th><th>Filters</th></tr><tr><td>name</td><td>|S16</td><td>False</td><td>False</td><td>-</td></tr><tr><td>open</td><td>float32</td><td>False</td><td>False</td><td>-</td></tr><tr><td>high</td><td>float32</td><td>False</td><td>False</td><td>-</td></tr><tr><td>low</td><td>float32</td><td>False</td><td>False</td><td>-</td></tr><tr><td>close</td><td>float32</td><td>False</td><td>False</td><td>-</td></tr><tr><td>_open</td><td>float32</td><td>False</td><td>False</td><td>-</td></tr><tr><td>_high</td><td>float32</td><td>False</td><td>False</td><td>-</td></tr><tr><td>_low</td><td>float32</td><td>False</td><td>False</td><td>-</td></tr><tr><td>_close</td><td>float32</td><td>False</td><td>False</td><td>-</td></tr><tr><td>volume</td><td>uint32</td><td>False</td><td>False</td><td>-</td></tr><tr><td>amount</td><td>uint64</td><td>False</td><td>False</td><td>-</td></tr><tr><td>preclose</td><td>float32</td><td>False</td><td>False</td><td>-</td></tr><tr><td>net_profit_ttm</td><td>float64</td><td>False</td><td>False</td><td>-</td></tr><tr><td>cashflow_ttm</td><td>float64</td><td>False</td><td>False</td><td>-</td></tr><tr><td>equity</td><td>float64</td><td>False</td><td>False</td><td>-</td></tr><tr><td>asset</td><td>float64</td><td>False</td><td>False</td><td>-</td></tr><tr><td>debt</td><td>float64</td><td>False</td><td>False</td><td>-</td></tr><tr><td>debttoasset</td><td>float32</td><td>False</td><td>False</td><td>-</td></tr><tr><td>net_profit_q</td><td>float64</td><td>False</td><td>False</td><td>-</td></tr><tr><td>pe_ttm</td><td>float32</td><td>False</td><td>False</td><td>-</td></tr><tr><td>pb</td><td>float32</td><td>False</td><td>False</td><td>-</td></tr><tr><td>mkt_cap</td><td>float64</td><td>False</td><td>False</td><td>-</td></tr><tr><td>mkt_cap_ashare</td><td>float64</td><td>False</td><td>False</td><td>-</td></tr><tr><td>vip_buy_amt</td><td>float32</td><td>False</td><td>False</td><td>-</td></tr><tr><td>vip_sell_amt</td><td>float32</td><td>False</td><td>False</td><td>-</td></tr><tr><td>inst_buy_amt</td><td>float32</td><td>False</td><td>False</td><td>-</td></tr><tr><td>inst_sell_amt</td><td>float32</td><td>False</td><td>False</td><td>-</td></tr><tr><td>mid_buy_amt</td><td>float32</td><td>False</td><td>False</td><td>-</td></tr><tr><td>mid_sell_amt</td><td>float32</td><td>False</td><td>False</td><td>-</td></tr><tr><td>indi_buy_amt</td><td>float32</td><td>False</td><td>False</td><td>-</td></tr><tr><td>indi_sell_amt</td><td>float32</td><td>False</td><td>False</td><td>-</td></tr><tr><td>master_net_flow_in</td><td>float32</td><td>False</td><td>False</td><td>-</td></tr><tr><td>master2_net_flow_in</td><td>float32</td><td>False</td><td>False</td><td>-</td></tr><tr><td>vip_net_flow_in</td><td>float32</td><td>False</td><td>False</td><td>-</td></tr><tr><td>mid_net_flow_in</td><td>float32</td><td>False</td><td>False</td><td>-</td></tr><tr><td>inst_net_flow_in</td><td>float32</td><td>False</td><td>False</td><td>-</td></tr><tr><td>indi_net_flow_in</td><td>float32</td><td>False</td><td>False</td><td>-</td></tr><tr><td>total_sell_amt</td><td>float32</td><td>False</td><td>False</td><td>-</td></tr><tr><td>total_buy_amt</td><td>float32</td><td>False</td><td>False</td><td>-</td></tr><tr><td>net_flow_in</td><td>float32</td><td>False</td><td>False</td><td>-</td></tr><tr><td>turnover</td><td>float32</td><td>False</td><td>False</td><td>-</td></tr><tr><td>free_shares</td><td>uint64</td><td>False</td><td>False</td><td>-</td></tr><tr><td>total_shares</td><td>uint64</td><td>False</td><td>False</td><td>-</td></tr><tr><td>maxupordown</td><td>uint8</td><td>False</td><td>False</td><td>-</td></tr><tr><td>maxupordown_at_open</td><td>uint8</td><td>False</td><td>False</td><td>-</td></tr><tr><td>lb_up_count</td><td>uint8</td><td>False</td><td>False</td><td>-</td></tr><tr><td>lb_down_count</td><td>uint8</td><td>False</td><td>False</td><td>-</td></tr></table></td></tr><tr><th>Cell Order</th></tr><tr><td>col-major</td></tr><tr><th>Tile Order</th></tr><tr><td>col-major</td></tr><tr><th>Sparse</th></tr><tr><td>False</td></tr></table>"
      ],
      "text/plain": [
       "ArraySchema(\n",
       "  domain=Domain(*[\n",
       "    Dim(name='_dt', domain=(0, 25000), tile=250, dtype='uint32'),\n",
       "    Dim(name='_symbol', domain=(0, 20000), tile=1, dtype='uint32'),\n",
       "  ]),\n",
       "  attrs=[\n",
       "    Attr(name='name', dtype='|S16', var=False, nullable=False, enum_label=None),\n",
       "    Attr(name='open', dtype='float32', var=False, nullable=False, enum_label=None),\n",
       "    Attr(name='high', dtype='float32', var=False, nullable=False, enum_label=None),\n",
       "    Attr(name='low', dtype='float32', var=False, nullable=False, enum_label=None),\n",
       "    Attr(name='close', dtype='float32', var=False, nullable=False, enum_label=None),\n",
       "    Attr(name='_open', dtype='float32', var=False, nullable=False, enum_label=None),\n",
       "    Attr(name='_high', dtype='float32', var=False, nullable=False, enum_label=None),\n",
       "    Attr(name='_low', dtype='float32', var=False, nullable=False, enum_label=None),\n",
       "    Attr(name='_close', dtype='float32', var=False, nullable=False, enum_label=None),\n",
       "    Attr(name='volume', dtype='uint32', var=False, nullable=False, enum_label=None),\n",
       "    Attr(name='amount', dtype='uint64', var=False, nullable=False, enum_label=None),\n",
       "    Attr(name='preclose', dtype='float32', var=False, nullable=False, enum_label=None),\n",
       "    Attr(name='net_profit_ttm', dtype='float64', var=False, nullable=False, enum_label=None),\n",
       "    Attr(name='cashflow_ttm', dtype='float64', var=False, nullable=False, enum_label=None),\n",
       "    Attr(name='equity', dtype='float64', var=False, nullable=False, enum_label=None),\n",
       "    Attr(name='asset', dtype='float64', var=False, nullable=False, enum_label=None),\n",
       "    Attr(name='debt', dtype='float64', var=False, nullable=False, enum_label=None),\n",
       "    Attr(name='debttoasset', dtype='float32', var=False, nullable=False, enum_label=None),\n",
       "    Attr(name='net_profit_q', dtype='float64', var=False, nullable=False, enum_label=None),\n",
       "    Attr(name='pe_ttm', dtype='float32', var=False, nullable=False, enum_label=None),\n",
       "    Attr(name='pb', dtype='float32', var=False, nullable=False, enum_label=None),\n",
       "    Attr(name='mkt_cap', dtype='float64', var=False, nullable=False, enum_label=None),\n",
       "    Attr(name='mkt_cap_ashare', dtype='float64', var=False, nullable=False, enum_label=None),\n",
       "    Attr(name='vip_buy_amt', dtype='float32', var=False, nullable=False, enum_label=None),\n",
       "    Attr(name='vip_sell_amt', dtype='float32', var=False, nullable=False, enum_label=None),\n",
       "    Attr(name='inst_buy_amt', dtype='float32', var=False, nullable=False, enum_label=None),\n",
       "    Attr(name='inst_sell_amt', dtype='float32', var=False, nullable=False, enum_label=None),\n",
       "    Attr(name='mid_buy_amt', dtype='float32', var=False, nullable=False, enum_label=None),\n",
       "    Attr(name='mid_sell_amt', dtype='float32', var=False, nullable=False, enum_label=None),\n",
       "    Attr(name='indi_buy_amt', dtype='float32', var=False, nullable=False, enum_label=None),\n",
       "    Attr(name='indi_sell_amt', dtype='float32', var=False, nullable=False, enum_label=None),\n",
       "    Attr(name='master_net_flow_in', dtype='float32', var=False, nullable=False, enum_label=None),\n",
       "    Attr(name='master2_net_flow_in', dtype='float32', var=False, nullable=False, enum_label=None),\n",
       "    Attr(name='vip_net_flow_in', dtype='float32', var=False, nullable=False, enum_label=None),\n",
       "    Attr(name='mid_net_flow_in', dtype='float32', var=False, nullable=False, enum_label=None),\n",
       "    Attr(name='inst_net_flow_in', dtype='float32', var=False, nullable=False, enum_label=None),\n",
       "    Attr(name='indi_net_flow_in', dtype='float32', var=False, nullable=False, enum_label=None),\n",
       "    Attr(name='total_sell_amt', dtype='float32', var=False, nullable=False, enum_label=None),\n",
       "    Attr(name='total_buy_amt', dtype='float32', var=False, nullable=False, enum_label=None),\n",
       "    Attr(name='net_flow_in', dtype='float32', var=False, nullable=False, enum_label=None),\n",
       "    Attr(name='turnover', dtype='float32', var=False, nullable=False, enum_label=None),\n",
       "    Attr(name='free_shares', dtype='uint64', var=False, nullable=False, enum_label=None),\n",
       "    Attr(name='total_shares', dtype='uint64', var=False, nullable=False, enum_label=None),\n",
       "    Attr(name='maxupordown', dtype='uint8', var=False, nullable=False, enum_label=None),\n",
       "    Attr(name='maxupordown_at_open', dtype='uint8', var=False, nullable=False, enum_label=None),\n",
       "    Attr(name='lb_up_count', dtype='uint8', var=False, nullable=False, enum_label=None),\n",
       "    Attr(name='lb_down_count', dtype='uint8', var=False, nullable=False, enum_label=None),\n",
       "  ],\n",
       "  cell_order='col-major',\n",
       "  tile_order='col-major',\n",
       "  sparse=False,\n",
       ")"
      ]
     },
     "execution_count": 48,
     "metadata": {},
     "output_type": "execute_result"
    }
   ],
   "source": [
    "import numpy as np\n",
    "array_bars_stock_daily = f\"{cn_stock_group_name}/bars/daily\"\n",
    "\n",
    "# delete array_bars_stock_daily\n",
    "try:\n",
    "    tiledb.Array.delete_array(array_bars_stock_daily, ctx=ctx)\n",
    "except:\n",
    "    pass\n",
    "\n",
    "# filter_list = tiledb.FilterList([tiledb.ByteShuffleFilter(), tiledb.ZstdFilter()])\n",
    "attrs = [\n",
    "    tiledb.Attr(name=\"name\", dtype='S16'),\n",
    "    tiledb.Attr(name=\"open\", dtype=np.float32),\n",
    "    tiledb.Attr(name=\"high\", dtype=np.float32),\n",
    "    tiledb.Attr(name=\"low\", dtype=np.float32),\n",
    "    tiledb.Attr(name=\"close\", dtype=np.float32),\n",
    "    tiledb.Attr(name=\"_open\", dtype=np.float32),\n",
    "    tiledb.Attr(name=\"_high\", dtype=np.float32),\n",
    "    tiledb.Attr(name=\"_low\", dtype=np.float32),\n",
    "    tiledb.Attr(name=\"_close\", dtype=np.float32),\n",
    "    tiledb.Attr(name=\"volume\", dtype=np.uint32),\n",
    "    tiledb.Attr(name=\"amount\", dtype=np.uint64),\n",
    "    tiledb.Attr(name=\"preclose\", dtype=np.float32),\n",
    "\n",
    "    tiledb.Attr(name=\"net_profit_ttm\", dtype=np.float64),\n",
    "    tiledb.Attr(name=\"cashflow_ttm\", dtype=np.float64),\n",
    "    tiledb.Attr(name=\"equity\", dtype=np.float64),\n",
    "    tiledb.Attr(name=\"asset\", dtype=np.float64),\n",
    "    tiledb.Attr(name=\"debt\", dtype=np.float64),\n",
    "    tiledb.Attr(name=\"debttoasset\", dtype=np.float32),\n",
    "    tiledb.Attr(name=\"net_profit_q\", dtype=np.float64),\n",
    "    tiledb.Attr(name=\"pe_ttm\", dtype=np.float32),\n",
    "    tiledb.Attr(name=\"pb\", dtype=np.float32),\n",
    "    tiledb.Attr(name=\"mkt_cap\", dtype=np.float64),\n",
    "    tiledb.Attr(name=\"mkt_cap_ashare\", dtype=np.float64),\n",
    "\n",
    "    tiledb.Attr(name=\"vip_buy_amt\", dtype=np.float32),\n",
    "    tiledb.Attr(name=\"vip_sell_amt\", dtype=np.float32),\n",
    "    tiledb.Attr(name=\"inst_buy_amt\", dtype=np.float32),\n",
    "    tiledb.Attr(name=\"inst_sell_amt\", dtype=np.float32),\n",
    "    tiledb.Attr(name=\"mid_buy_amt\", dtype=np.float32),\n",
    "    tiledb.Attr(name=\"mid_sell_amt\", dtype=np.float32),\n",
    "    tiledb.Attr(name=\"indi_buy_amt\", dtype=np.float32),\n",
    "    tiledb.Attr(name=\"indi_sell_amt\", dtype=np.float32),\n",
    "    tiledb.Attr(name=\"master_net_flow_in\", dtype=np.float32),\n",
    "    tiledb.Attr(name=\"master2_net_flow_in\", dtype=np.float32),\n",
    "    tiledb.Attr(name=\"vip_net_flow_in\", dtype=np.float32),\n",
    "    tiledb.Attr(name=\"mid_net_flow_in\", dtype=np.float32),\n",
    "    tiledb.Attr(name=\"inst_net_flow_in\", dtype=np.float32),\n",
    "    tiledb.Attr(name=\"indi_net_flow_in\", dtype=np.float32),\n",
    "    tiledb.Attr(name=\"total_sell_amt\", dtype=np.float32),\n",
    "    tiledb.Attr(name=\"total_buy_amt\", dtype=np.float32),\n",
    "    tiledb.Attr(name=\"net_flow_in\", dtype=np.float32),\n",
    "\n",
    "    tiledb.Attr(name=\"turnover\", dtype=np.float32),\n",
    "    tiledb.Attr(name=\"free_shares\", dtype=np.uint64),\n",
    "    tiledb.Attr(name=\"total_shares\", dtype=np.uint64),\n",
    "    tiledb.Attr(name=\"maxupordown\", dtype=np.uint8),\n",
    "    tiledb.Attr(name=\"maxupordown_at_open\", dtype=np.uint8),\n",
    "    tiledb.Attr(name=\"lb_up_count\", dtype=np.uint8),\n",
    "    tiledb.Attr(name=\"lb_down_count\", dtype=np.uint8),\n",
    "]\n",
    "d1 = tiledb.Dim(name=\"_dt\", domain=(0, 25000), tile=250, dtype=np.uint32)\n",
    "d2 = tiledb.Dim(name='_symbol', domain=(0,20000), tile=1, dtype=np.uint32)\n",
    "dom1 = tiledb.Domain(d1, d2)\n",
    "dim_labels = {\n",
    "    0: {\n",
    "        \"dt\": d1.create_label_schema(\"increasing\", \"datetime64[s]\")\n",
    "    },\n",
    "    1: {\n",
    "        \"symbol\": d2.create_label_schema(\"increasing\", 'S9')\n",
    "    }\n",
    "}\n",
    "schema = tiledb.ArraySchema(domain=dom1, sparse=False, attrs=attrs, cell_order='col-major', tile_order='col-major', dim_labels=dim_labels)\n",
    "schema.check()\n",
    "tiledb.Array.create(array_bars_stock_daily, schema, ctx=ctx)\n",
    "schema"
   ]
  },
  {
   "cell_type": "markdown",
   "metadata": {},
   "source": [
    "## K线数据（分钟线、小时线、周线、月线）bars\n",
    "\n",
    "已经是前复权的数据\n",
    "\n",
    "- 分钟线 bars/1min(5min/10min/...)\n",
    "- 小时线 bars/1h(2h)\n",
    "- 周线 bars/weekly\n",
    "- 月线 bars/monthly\n",
    "\n",
    "|字段名|说明|类型|\n",
    "|--|--|--|\n",
    "|dt|交易日期|datetime64[s]|\n",
    "|open|开盘价|float32|\n",
    "|high|最高价|float32|\n",
    "|low|最低价|float32|\n",
    "|close|收盘价|float32|\n",
    "|volume|成交量|uint64|\n",
    "|amount|成交额|float64|"
   ]
  },
  {
   "cell_type": "code",
   "execution_count": 32,
   "metadata": {},
   "outputs": [],
   "source": [
    "import numpy as np\n",
    "# 都按100年来估计\n",
    "def setup_bars(_name, _d1_domain, _d1_tile):\n",
    "    array_bars = f\"{cn_stock_group_name}/bars/{_name}\"\n",
    "\n",
    "    # delete array_bars\n",
    "    try:\n",
    "        tiledb.Array.delete_array(array_bars, ctx=ctx)\n",
    "    except:\n",
    "        pass\n",
    "\n",
    "    # filter_list = tiledb.FilterList([tiledb.ByteShuffleFilter(), tiledb.ZstdFilter()])\n",
    "    attrs = [\n",
    "        tiledb.Attr(name=\"open\", dtype=np.float32),\n",
    "        tiledb.Attr(name=\"high\", dtype=np.float32),\n",
    "        tiledb.Attr(name=\"low\", dtype=np.float32),\n",
    "        tiledb.Attr(name=\"close\", dtype=np.float32),\n",
    "        tiledb.Attr(name=\"volume\", dtype=np.uint64),\n",
    "        tiledb.Attr(name=\"amount\", dtype=np.float64),\n",
    "    ]\n",
    "    d1 = tiledb.Dim(name=\"_dt\", domain=_d1_domain, tile=_d1_tile, dtype=np.uint32)\n",
    "    d2 = tiledb.Dim(name='_symbol', domain=(0,20000), tile=1, dtype=np.uint32)\n",
    "    dom1 = tiledb.Domain(d1, d2)\n",
    "    dim_labels = {\n",
    "        0: {\n",
    "            \"dt\": d1.create_label_schema(\"increasing\", \"datetime64[s]\")\n",
    "        },\n",
    "        1: {\n",
    "            \"symbol\": d2.create_label_schema(\"increasing\", np.dtype('U'))\n",
    "        }\n",
    "    }\n",
    "    schema = tiledb.ArraySchema(domain=dom1, sparse=False, attrs=attrs, cell_order='col-major', tile_order='col-major', dim_labels=dim_labels)\n",
    "    schema.check()\n",
    "    tiledb.Array.create(array_bars, schema, ctx=ctx)\n",
    "    return schema"
   ]
  },
  {
   "cell_type": "code",
   "execution_count": 34,
   "metadata": {},
   "outputs": [
    {
     "data": {
      "text/html": [
       "<table><tr><th>Domain</th></tr><tr><td><table><tr><th>Name</th><th>Domain</th><th>Tile</th><th>Data Type</th><th>Is Var-length</th><th>Filters</th></tr><tr><td>_dt</td><td>(0, 6000000)</td><td>1000</td><td>uint32</td><td>False</td><td>-</td></tr><tr><td>_symbol</td><td>(0, 20000)</td><td>1</td><td>uint32</td><td>False</td><td>-</td></tr></table></td></tr><tr><th>Attributes</th></tr><tr><td><table><tr><th>Name</th><th>Data Type</th><th>Is Var-Len</th><th>Is Nullable</th><th>Filters</th></tr><tr><td>open</td><td>float32</td><td>False</td><td>False</td><td>-</td></tr><tr><td>high</td><td>float32</td><td>False</td><td>False</td><td>-</td></tr><tr><td>low</td><td>float32</td><td>False</td><td>False</td><td>-</td></tr><tr><td>close</td><td>float32</td><td>False</td><td>False</td><td>-</td></tr><tr><td>volume</td><td>uint64</td><td>False</td><td>False</td><td>-</td></tr><tr><td>amount</td><td>float64</td><td>False</td><td>False</td><td>-</td></tr></table></td></tr><tr><th>Cell Order</th></tr><tr><td>col-major</td></tr><tr><th>Tile Order</th></tr><tr><td>col-major</td></tr><tr><th>Sparse</th></tr><tr><td>False</td></tr></table>"
      ],
      "text/plain": [
       "ArraySchema(\n",
       "  domain=Domain(*[\n",
       "    Dim(name='_dt', domain=(0, 6000000), tile=1000, dtype='uint32'),\n",
       "    Dim(name='_symbol', domain=(0, 20000), tile=1, dtype='uint32'),\n",
       "  ]),\n",
       "  attrs=[\n",
       "    Attr(name='open', dtype='float32', var=False, nullable=False, enum_label=None),\n",
       "    Attr(name='high', dtype='float32', var=False, nullable=False, enum_label=None),\n",
       "    Attr(name='low', dtype='float32', var=False, nullable=False, enum_label=None),\n",
       "    Attr(name='close', dtype='float32', var=False, nullable=False, enum_label=None),\n",
       "    Attr(name='volume', dtype='uint64', var=False, nullable=False, enum_label=None),\n",
       "    Attr(name='amount', dtype='float64', var=False, nullable=False, enum_label=None),\n",
       "  ],\n",
       "  cell_order='col-major',\n",
       "  tile_order='col-major',\n",
       "  sparse=False,\n",
       ")"
      ]
     },
     "execution_count": 34,
     "metadata": {},
     "output_type": "execute_result"
    }
   ],
   "source": [
    "setup_bars(\"1min\", (0, 240*250*100), 1000)"
   ]
  },
  {
   "cell_type": "code",
   "execution_count": 35,
   "metadata": {},
   "outputs": [
    {
     "data": {
      "text/html": [
       "<table><tr><th>Domain</th></tr><tr><td><table><tr><th>Name</th><th>Domain</th><th>Tile</th><th>Data Type</th><th>Is Var-length</th><th>Filters</th></tr><tr><td>_dt</td><td>(0, 1200000)</td><td>1000</td><td>uint32</td><td>False</td><td>-</td></tr><tr><td>_symbol</td><td>(0, 20000)</td><td>1</td><td>uint32</td><td>False</td><td>-</td></tr></table></td></tr><tr><th>Attributes</th></tr><tr><td><table><tr><th>Name</th><th>Data Type</th><th>Is Var-Len</th><th>Is Nullable</th><th>Filters</th></tr><tr><td>open</td><td>float32</td><td>False</td><td>False</td><td>-</td></tr><tr><td>high</td><td>float32</td><td>False</td><td>False</td><td>-</td></tr><tr><td>low</td><td>float32</td><td>False</td><td>False</td><td>-</td></tr><tr><td>close</td><td>float32</td><td>False</td><td>False</td><td>-</td></tr><tr><td>volume</td><td>uint64</td><td>False</td><td>False</td><td>-</td></tr><tr><td>amount</td><td>float64</td><td>False</td><td>False</td><td>-</td></tr></table></td></tr><tr><th>Cell Order</th></tr><tr><td>col-major</td></tr><tr><th>Tile Order</th></tr><tr><td>col-major</td></tr><tr><th>Sparse</th></tr><tr><td>False</td></tr></table>"
      ],
      "text/plain": [
       "ArraySchema(\n",
       "  domain=Domain(*[\n",
       "    Dim(name='_dt', domain=(0, 1200000), tile=1000, dtype='uint32'),\n",
       "    Dim(name='_symbol', domain=(0, 20000), tile=1, dtype='uint32'),\n",
       "  ]),\n",
       "  attrs=[\n",
       "    Attr(name='open', dtype='float32', var=False, nullable=False, enum_label=None),\n",
       "    Attr(name='high', dtype='float32', var=False, nullable=False, enum_label=None),\n",
       "    Attr(name='low', dtype='float32', var=False, nullable=False, enum_label=None),\n",
       "    Attr(name='close', dtype='float32', var=False, nullable=False, enum_label=None),\n",
       "    Attr(name='volume', dtype='uint64', var=False, nullable=False, enum_label=None),\n",
       "    Attr(name='amount', dtype='float64', var=False, nullable=False, enum_label=None),\n",
       "  ],\n",
       "  cell_order='col-major',\n",
       "  tile_order='col-major',\n",
       "  sparse=False,\n",
       ")"
      ]
     },
     "execution_count": 35,
     "metadata": {},
     "output_type": "execute_result"
    }
   ],
   "source": [
    "setup_bars(\"5min\", (0, 48*250*100), 1000)"
   ]
  },
  {
   "cell_type": "code",
   "execution_count": 36,
   "metadata": {},
   "outputs": [
    {
     "data": {
      "text/html": [
       "<table><tr><th>Domain</th></tr><tr><td><table><tr><th>Name</th><th>Domain</th><th>Tile</th><th>Data Type</th><th>Is Var-length</th><th>Filters</th></tr><tr><td>_dt</td><td>(0, 400000)</td><td>1000</td><td>uint32</td><td>False</td><td>-</td></tr><tr><td>_symbol</td><td>(0, 20000)</td><td>1</td><td>uint32</td><td>False</td><td>-</td></tr></table></td></tr><tr><th>Attributes</th></tr><tr><td><table><tr><th>Name</th><th>Data Type</th><th>Is Var-Len</th><th>Is Nullable</th><th>Filters</th></tr><tr><td>open</td><td>float32</td><td>False</td><td>False</td><td>-</td></tr><tr><td>high</td><td>float32</td><td>False</td><td>False</td><td>-</td></tr><tr><td>low</td><td>float32</td><td>False</td><td>False</td><td>-</td></tr><tr><td>close</td><td>float32</td><td>False</td><td>False</td><td>-</td></tr><tr><td>volume</td><td>uint64</td><td>False</td><td>False</td><td>-</td></tr><tr><td>amount</td><td>float64</td><td>False</td><td>False</td><td>-</td></tr></table></td></tr><tr><th>Cell Order</th></tr><tr><td>col-major</td></tr><tr><th>Tile Order</th></tr><tr><td>col-major</td></tr><tr><th>Sparse</th></tr><tr><td>False</td></tr></table>"
      ],
      "text/plain": [
       "ArraySchema(\n",
       "  domain=Domain(*[\n",
       "    Dim(name='_dt', domain=(0, 400000), tile=1000, dtype='uint32'),\n",
       "    Dim(name='_symbol', domain=(0, 20000), tile=1, dtype='uint32'),\n",
       "  ]),\n",
       "  attrs=[\n",
       "    Attr(name='open', dtype='float32', var=False, nullable=False, enum_label=None),\n",
       "    Attr(name='high', dtype='float32', var=False, nullable=False, enum_label=None),\n",
       "    Attr(name='low', dtype='float32', var=False, nullable=False, enum_label=None),\n",
       "    Attr(name='close', dtype='float32', var=False, nullable=False, enum_label=None),\n",
       "    Attr(name='volume', dtype='uint64', var=False, nullable=False, enum_label=None),\n",
       "    Attr(name='amount', dtype='float64', var=False, nullable=False, enum_label=None),\n",
       "  ],\n",
       "  cell_order='col-major',\n",
       "  tile_order='col-major',\n",
       "  sparse=False,\n",
       ")"
      ]
     },
     "execution_count": 36,
     "metadata": {},
     "output_type": "execute_result"
    }
   ],
   "source": [
    "setup_bars(\"15min\", (0, 16*250*100), 1000)"
   ]
  },
  {
   "cell_type": "code",
   "execution_count": 37,
   "metadata": {},
   "outputs": [
    {
     "data": {
      "text/html": [
       "<table><tr><th>Domain</th></tr><tr><td><table><tr><th>Name</th><th>Domain</th><th>Tile</th><th>Data Type</th><th>Is Var-length</th><th>Filters</th></tr><tr><td>_dt</td><td>(0, 200000)</td><td>1000</td><td>uint32</td><td>False</td><td>-</td></tr><tr><td>_symbol</td><td>(0, 20000)</td><td>1</td><td>uint32</td><td>False</td><td>-</td></tr></table></td></tr><tr><th>Attributes</th></tr><tr><td><table><tr><th>Name</th><th>Data Type</th><th>Is Var-Len</th><th>Is Nullable</th><th>Filters</th></tr><tr><td>open</td><td>float32</td><td>False</td><td>False</td><td>-</td></tr><tr><td>high</td><td>float32</td><td>False</td><td>False</td><td>-</td></tr><tr><td>low</td><td>float32</td><td>False</td><td>False</td><td>-</td></tr><tr><td>close</td><td>float32</td><td>False</td><td>False</td><td>-</td></tr><tr><td>volume</td><td>uint64</td><td>False</td><td>False</td><td>-</td></tr><tr><td>amount</td><td>float64</td><td>False</td><td>False</td><td>-</td></tr></table></td></tr><tr><th>Cell Order</th></tr><tr><td>col-major</td></tr><tr><th>Tile Order</th></tr><tr><td>col-major</td></tr><tr><th>Sparse</th></tr><tr><td>False</td></tr></table>"
      ],
      "text/plain": [
       "ArraySchema(\n",
       "  domain=Domain(*[\n",
       "    Dim(name='_dt', domain=(0, 200000), tile=1000, dtype='uint32'),\n",
       "    Dim(name='_symbol', domain=(0, 20000), tile=1, dtype='uint32'),\n",
       "  ]),\n",
       "  attrs=[\n",
       "    Attr(name='open', dtype='float32', var=False, nullable=False, enum_label=None),\n",
       "    Attr(name='high', dtype='float32', var=False, nullable=False, enum_label=None),\n",
       "    Attr(name='low', dtype='float32', var=False, nullable=False, enum_label=None),\n",
       "    Attr(name='close', dtype='float32', var=False, nullable=False, enum_label=None),\n",
       "    Attr(name='volume', dtype='uint64', var=False, nullable=False, enum_label=None),\n",
       "    Attr(name='amount', dtype='float64', var=False, nullable=False, enum_label=None),\n",
       "  ],\n",
       "  cell_order='col-major',\n",
       "  tile_order='col-major',\n",
       "  sparse=False,\n",
       ")"
      ]
     },
     "execution_count": 37,
     "metadata": {},
     "output_type": "execute_result"
    }
   ],
   "source": [
    "setup_bars(\"30min\", (0, 8*250*100), 1000)"
   ]
  },
  {
   "cell_type": "code",
   "execution_count": 38,
   "metadata": {},
   "outputs": [
    {
     "data": {
      "text/html": [
       "<table><tr><th>Domain</th></tr><tr><td><table><tr><th>Name</th><th>Domain</th><th>Tile</th><th>Data Type</th><th>Is Var-length</th><th>Filters</th></tr><tr><td>_dt</td><td>(0, 100000)</td><td>1000</td><td>uint32</td><td>False</td><td>-</td></tr><tr><td>_symbol</td><td>(0, 20000)</td><td>1</td><td>uint32</td><td>False</td><td>-</td></tr></table></td></tr><tr><th>Attributes</th></tr><tr><td><table><tr><th>Name</th><th>Data Type</th><th>Is Var-Len</th><th>Is Nullable</th><th>Filters</th></tr><tr><td>open</td><td>float32</td><td>False</td><td>False</td><td>-</td></tr><tr><td>high</td><td>float32</td><td>False</td><td>False</td><td>-</td></tr><tr><td>low</td><td>float32</td><td>False</td><td>False</td><td>-</td></tr><tr><td>close</td><td>float32</td><td>False</td><td>False</td><td>-</td></tr><tr><td>volume</td><td>uint64</td><td>False</td><td>False</td><td>-</td></tr><tr><td>amount</td><td>float64</td><td>False</td><td>False</td><td>-</td></tr></table></td></tr><tr><th>Cell Order</th></tr><tr><td>col-major</td></tr><tr><th>Tile Order</th></tr><tr><td>col-major</td></tr><tr><th>Sparse</th></tr><tr><td>False</td></tr></table>"
      ],
      "text/plain": [
       "ArraySchema(\n",
       "  domain=Domain(*[\n",
       "    Dim(name='_dt', domain=(0, 100000), tile=1000, dtype='uint32'),\n",
       "    Dim(name='_symbol', domain=(0, 20000), tile=1, dtype='uint32'),\n",
       "  ]),\n",
       "  attrs=[\n",
       "    Attr(name='open', dtype='float32', var=False, nullable=False, enum_label=None),\n",
       "    Attr(name='high', dtype='float32', var=False, nullable=False, enum_label=None),\n",
       "    Attr(name='low', dtype='float32', var=False, nullable=False, enum_label=None),\n",
       "    Attr(name='close', dtype='float32', var=False, nullable=False, enum_label=None),\n",
       "    Attr(name='volume', dtype='uint64', var=False, nullable=False, enum_label=None),\n",
       "    Attr(name='amount', dtype='float64', var=False, nullable=False, enum_label=None),\n",
       "  ],\n",
       "  cell_order='col-major',\n",
       "  tile_order='col-major',\n",
       "  sparse=False,\n",
       ")"
      ]
     },
     "execution_count": 38,
     "metadata": {},
     "output_type": "execute_result"
    }
   ],
   "source": [
    "setup_bars(\"1h\", (0, 4*250*100), 1000)"
   ]
  },
  {
   "cell_type": "code",
   "execution_count": 39,
   "metadata": {},
   "outputs": [
    {
     "data": {
      "text/html": [
       "<table><tr><th>Domain</th></tr><tr><td><table><tr><th>Name</th><th>Domain</th><th>Tile</th><th>Data Type</th><th>Is Var-length</th><th>Filters</th></tr><tr><td>_dt</td><td>(0, 50000)</td><td>1000</td><td>uint32</td><td>False</td><td>-</td></tr><tr><td>_symbol</td><td>(0, 20000)</td><td>1</td><td>uint32</td><td>False</td><td>-</td></tr></table></td></tr><tr><th>Attributes</th></tr><tr><td><table><tr><th>Name</th><th>Data Type</th><th>Is Var-Len</th><th>Is Nullable</th><th>Filters</th></tr><tr><td>open</td><td>float32</td><td>False</td><td>False</td><td>-</td></tr><tr><td>high</td><td>float32</td><td>False</td><td>False</td><td>-</td></tr><tr><td>low</td><td>float32</td><td>False</td><td>False</td><td>-</td></tr><tr><td>close</td><td>float32</td><td>False</td><td>False</td><td>-</td></tr><tr><td>volume</td><td>uint64</td><td>False</td><td>False</td><td>-</td></tr><tr><td>amount</td><td>float64</td><td>False</td><td>False</td><td>-</td></tr></table></td></tr><tr><th>Cell Order</th></tr><tr><td>col-major</td></tr><tr><th>Tile Order</th></tr><tr><td>col-major</td></tr><tr><th>Sparse</th></tr><tr><td>False</td></tr></table>"
      ],
      "text/plain": [
       "ArraySchema(\n",
       "  domain=Domain(*[\n",
       "    Dim(name='_dt', domain=(0, 50000), tile=1000, dtype='uint32'),\n",
       "    Dim(name='_symbol', domain=(0, 20000), tile=1, dtype='uint32'),\n",
       "  ]),\n",
       "  attrs=[\n",
       "    Attr(name='open', dtype='float32', var=False, nullable=False, enum_label=None),\n",
       "    Attr(name='high', dtype='float32', var=False, nullable=False, enum_label=None),\n",
       "    Attr(name='low', dtype='float32', var=False, nullable=False, enum_label=None),\n",
       "    Attr(name='close', dtype='float32', var=False, nullable=False, enum_label=None),\n",
       "    Attr(name='volume', dtype='uint64', var=False, nullable=False, enum_label=None),\n",
       "    Attr(name='amount', dtype='float64', var=False, nullable=False, enum_label=None),\n",
       "  ],\n",
       "  cell_order='col-major',\n",
       "  tile_order='col-major',\n",
       "  sparse=False,\n",
       ")"
      ]
     },
     "execution_count": 39,
     "metadata": {},
     "output_type": "execute_result"
    }
   ],
   "source": [
    "setup_bars(\"2h\", (0, 2*250*100), 1000)"
   ]
  },
  {
   "cell_type": "code",
   "execution_count": 40,
   "metadata": {},
   "outputs": [
    {
     "data": {
      "text/html": [
       "<table><tr><th>Domain</th></tr><tr><td><table><tr><th>Name</th><th>Domain</th><th>Tile</th><th>Data Type</th><th>Is Var-length</th><th>Filters</th></tr><tr><td>_dt</td><td>(0, 6000)</td><td>6001</td><td>uint32</td><td>False</td><td>-</td></tr><tr><td>_symbol</td><td>(0, 20000)</td><td>1</td><td>uint32</td><td>False</td><td>-</td></tr></table></td></tr><tr><th>Attributes</th></tr><tr><td><table><tr><th>Name</th><th>Data Type</th><th>Is Var-Len</th><th>Is Nullable</th><th>Filters</th></tr><tr><td>open</td><td>float32</td><td>False</td><td>False</td><td>-</td></tr><tr><td>high</td><td>float32</td><td>False</td><td>False</td><td>-</td></tr><tr><td>low</td><td>float32</td><td>False</td><td>False</td><td>-</td></tr><tr><td>close</td><td>float32</td><td>False</td><td>False</td><td>-</td></tr><tr><td>volume</td><td>uint64</td><td>False</td><td>False</td><td>-</td></tr><tr><td>amount</td><td>float64</td><td>False</td><td>False</td><td>-</td></tr></table></td></tr><tr><th>Cell Order</th></tr><tr><td>col-major</td></tr><tr><th>Tile Order</th></tr><tr><td>col-major</td></tr><tr><th>Sparse</th></tr><tr><td>False</td></tr></table>"
      ],
      "text/plain": [
       "ArraySchema(\n",
       "  domain=Domain(*[\n",
       "    Dim(name='_dt', domain=(0, 6000), tile=6001, dtype='uint32'),\n",
       "    Dim(name='_symbol', domain=(0, 20000), tile=1, dtype='uint32'),\n",
       "  ]),\n",
       "  attrs=[\n",
       "    Attr(name='open', dtype='float32', var=False, nullable=False, enum_label=None),\n",
       "    Attr(name='high', dtype='float32', var=False, nullable=False, enum_label=None),\n",
       "    Attr(name='low', dtype='float32', var=False, nullable=False, enum_label=None),\n",
       "    Attr(name='close', dtype='float32', var=False, nullable=False, enum_label=None),\n",
       "    Attr(name='volume', dtype='uint64', var=False, nullable=False, enum_label=None),\n",
       "    Attr(name='amount', dtype='float64', var=False, nullable=False, enum_label=None),\n",
       "  ],\n",
       "  cell_order='col-major',\n",
       "  tile_order='col-major',\n",
       "  sparse=False,\n",
       ")"
      ]
     },
     "execution_count": 40,
     "metadata": {},
     "output_type": "execute_result"
    }
   ],
   "source": [
    "setup_bars(\"weekly\", (0, 6000), None)"
   ]
  },
  {
   "cell_type": "code",
   "execution_count": 41,
   "metadata": {},
   "outputs": [
    {
     "data": {
      "text/html": [
       "<table><tr><th>Domain</th></tr><tr><td><table><tr><th>Name</th><th>Domain</th><th>Tile</th><th>Data Type</th><th>Is Var-length</th><th>Filters</th></tr><tr><td>_dt</td><td>(0, 1200)</td><td>1201</td><td>uint32</td><td>False</td><td>-</td></tr><tr><td>_symbol</td><td>(0, 20000)</td><td>1</td><td>uint32</td><td>False</td><td>-</td></tr></table></td></tr><tr><th>Attributes</th></tr><tr><td><table><tr><th>Name</th><th>Data Type</th><th>Is Var-Len</th><th>Is Nullable</th><th>Filters</th></tr><tr><td>open</td><td>float32</td><td>False</td><td>False</td><td>-</td></tr><tr><td>high</td><td>float32</td><td>False</td><td>False</td><td>-</td></tr><tr><td>low</td><td>float32</td><td>False</td><td>False</td><td>-</td></tr><tr><td>close</td><td>float32</td><td>False</td><td>False</td><td>-</td></tr><tr><td>volume</td><td>uint64</td><td>False</td><td>False</td><td>-</td></tr><tr><td>amount</td><td>float64</td><td>False</td><td>False</td><td>-</td></tr></table></td></tr><tr><th>Cell Order</th></tr><tr><td>col-major</td></tr><tr><th>Tile Order</th></tr><tr><td>col-major</td></tr><tr><th>Sparse</th></tr><tr><td>False</td></tr></table>"
      ],
      "text/plain": [
       "ArraySchema(\n",
       "  domain=Domain(*[\n",
       "    Dim(name='_dt', domain=(0, 1200), tile=1201, dtype='uint32'),\n",
       "    Dim(name='_symbol', domain=(0, 20000), tile=1, dtype='uint32'),\n",
       "  ]),\n",
       "  attrs=[\n",
       "    Attr(name='open', dtype='float32', var=False, nullable=False, enum_label=None),\n",
       "    Attr(name='high', dtype='float32', var=False, nullable=False, enum_label=None),\n",
       "    Attr(name='low', dtype='float32', var=False, nullable=False, enum_label=None),\n",
       "    Attr(name='close', dtype='float32', var=False, nullable=False, enum_label=None),\n",
       "    Attr(name='volume', dtype='uint64', var=False, nullable=False, enum_label=None),\n",
       "    Attr(name='amount', dtype='float64', var=False, nullable=False, enum_label=None),\n",
       "  ],\n",
       "  cell_order='col-major',\n",
       "  tile_order='col-major',\n",
       "  sparse=False,\n",
       ")"
      ]
     },
     "execution_count": 41,
     "metadata": {},
     "output_type": "execute_result"
    }
   ],
   "source": [
    "setup_bars(\"monthly\", (0, 1200), None)"
   ]
  },
  {
   "cell_type": "markdown",
   "metadata": {},
   "source": [
    "## 每日统计数据 market_stats\n",
    "\n",
    "排除了ST股\n",
    "\n",
    "|字段名|说明|类型|\n",
    "|--|--|--|\n",
    "|dt [index]|交易日期|datetime64[s]|\n",
    "|count_of_uplimit|涨停数|uint16|\n",
    "|count_of_downlimit|跌停数|uint16|\n",
    "|count_of_yiziup|一字涨停数|uint16|\n",
    "|count_of_yizidown|一字跌停数|uint16|\n",
    "|ratio_of_uplimit|涨停数占所有股数比例|float32|\n",
    "|ratio_of_downlimit|跌停数占所有股数比例|float32|\n",
    "|ratio_of_yiziup|一字涨停数占所有股数比例|float32|\n",
    "|ratio_of_yizidown|一字跌停数占所有股数比例|float32|\n",
    "|lb|连板数量[首板数, 二板数, ...]|[uint8,...]|\n"
   ]
  },
  {
   "cell_type": "code",
   "execution_count": 42,
   "metadata": {},
   "outputs": [
    {
     "data": {
      "text/html": [
       "<table><tr><th>Domain</th></tr><tr><td><table><tr><th>Name</th><th>Domain</th><th>Tile</th><th>Data Type</th><th>Is Var-length</th><th>Filters</th></tr><tr><td>dt</td><td>(numpy.datetime64('1990-01-01T00:00:00'), numpy.datetime64('2100-01-01T00:00:00'))</td><td>250 seconds</td><td>datetime64[s]</td><td>False</td><td>-</td></tr></table></td></tr><tr><th>Attributes</th></tr><tr><td><table><tr><th>Name</th><th>Data Type</th><th>Is Var-Len</th><th>Is Nullable</th><th>Filters</th></tr><tr><td>count_of_uplimit</td><td>uint16</td><td>False</td><td>False</td><td>-</td></tr><tr><td>count_of_downlimit</td><td>uint16</td><td>False</td><td>False</td><td>-</td></tr><tr><td>count_of_yiziup</td><td>uint16</td><td>False</td><td>False</td><td>-</td></tr><tr><td>count_of_yizidown</td><td>uint16</td><td>False</td><td>False</td><td>-</td></tr><tr><td>ratio_of_uplimit</td><td>float32</td><td>False</td><td>False</td><td>-</td></tr><tr><td>ratio_of_downlimit</td><td>float32</td><td>False</td><td>False</td><td>-</td></tr><tr><td>ratio_of_yiziup</td><td>float32</td><td>False</td><td>False</td><td>-</td></tr><tr><td>ratio_of_yizidown</td><td>float32</td><td>False</td><td>False</td><td>-</td></tr><tr><td>lb</td><td>uint8</td><td>True</td><td>False</td><td>-</td></tr></table></td></tr><tr><th>Cell Order</th></tr><tr><td>col-major</td></tr><tr><th>Tile Order</th></tr><tr><td>col-major</td></tr><tr><th>Sparse</th></tr><tr><td>False</td></tr></table>"
      ],
      "text/plain": [
       "ArraySchema(\n",
       "  domain=Domain(*[\n",
       "    Dim(name='dt', domain=(numpy.datetime64('1990-01-01T00:00:00'), numpy.datetime64('2100-01-01T00:00:00')), tile=numpy.timedelta64(250,'s'), dtype='datetime64[s]'),\n",
       "  ]),\n",
       "  attrs=[\n",
       "    Attr(name='count_of_uplimit', dtype='uint16', var=False, nullable=False, enum_label=None),\n",
       "    Attr(name='count_of_downlimit', dtype='uint16', var=False, nullable=False, enum_label=None),\n",
       "    Attr(name='count_of_yiziup', dtype='uint16', var=False, nullable=False, enum_label=None),\n",
       "    Attr(name='count_of_yizidown', dtype='uint16', var=False, nullable=False, enum_label=None),\n",
       "    Attr(name='ratio_of_uplimit', dtype='float32', var=False, nullable=False, enum_label=None),\n",
       "    Attr(name='ratio_of_downlimit', dtype='float32', var=False, nullable=False, enum_label=None),\n",
       "    Attr(name='ratio_of_yiziup', dtype='float32', var=False, nullable=False, enum_label=None),\n",
       "    Attr(name='ratio_of_yizidown', dtype='float32', var=False, nullable=False, enum_label=None),\n",
       "    Attr(name='lb', dtype='uint8', var=True, nullable=False, enum_label=None),\n",
       "  ],\n",
       "  cell_order='col-major',\n",
       "  tile_order='col-major',\n",
       "  sparse=False,\n",
       ")"
      ]
     },
     "execution_count": 42,
     "metadata": {},
     "output_type": "execute_result"
    }
   ],
   "source": [
    "\n",
    "import numpy as np\n",
    "array_market_stats = f\"{cn_stock_group_name}/market_stats\"\n",
    "\n",
    "# delete array_market_stats\n",
    "try:\n",
    "    tiledb.Array.delete_array(array_market_stats, ctx=ctx)\n",
    "except:\n",
    "    pass\n",
    "\n",
    "attrs = [\n",
    "    tiledb.Attr(name=\"count_of_uplimit\", dtype=np.uint16),\n",
    "    tiledb.Attr(name=\"count_of_downlimit\", dtype=np.uint16),\n",
    "    tiledb.Attr(name=\"count_of_yiziup\", dtype=np.uint16),\n",
    "    tiledb.Attr(name=\"count_of_yizidown\", dtype=np.uint16),\n",
    "    tiledb.Attr(name=\"ratio_of_uplimit\", dtype=np.float32),\n",
    "    tiledb.Attr(name=\"ratio_of_downlimit\", dtype=np.float32),\n",
    "    tiledb.Attr(name=\"ratio_of_yiziup\", dtype=np.float32),\n",
    "    tiledb.Attr(name=\"ratio_of_yizidown\", dtype=np.float32),\n",
    "    tiledb.Attr(name=\"lb\", var=True, dtype=np.uint8),\n",
    "]\n",
    "d1 = tiledb.Dim(name=\"dt\", domain=(np.datetime64('1990-01-01'), np.datetime64('2100-01-01')), tile=250, dtype=\"datetime64[s]\")\n",
    "dom1 = tiledb.Domain(d1)\n",
    "schema = tiledb.ArraySchema(domain=dom1, sparse=False, attrs=attrs, cell_order='col-major', tile_order='col-major')\n",
    "schema.check()\n",
    "tiledb.Array.create(array_market_stats, schema, ctx=ctx)\n",
    "schema\n"
   ]
  },
  {
   "cell_type": "markdown",
   "metadata": {},
   "source": [
    "# 中国期货市场"
   ]
  },
  {
   "cell_type": "code",
   "execution_count": 43,
   "metadata": {},
   "outputs": [],
   "source": [
    "cn_future_group_name = f\"{minio_bucket}/cn_future\"\n",
    "tiledb.group_create(cn_future_group_name, ctx=ctx)"
   ]
  }
 ],
 "metadata": {
  "kernelspec": {
   "display_name": "base",
   "language": "python",
   "name": "python3"
  },
  "language_info": {
   "codemirror_mode": {
    "name": "ipython",
    "version": 3
   },
   "file_extension": ".py",
   "mimetype": "text/x-python",
   "name": "python",
   "nbconvert_exporter": "python",
   "pygments_lexer": "ipython3",
   "version": "3.9.7"
  }
 },
 "nbformat": 4,
 "nbformat_minor": 2
}
